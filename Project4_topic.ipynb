{
 "cells": [
  {
   "cell_type": "code",
   "execution_count": 1,
   "metadata": {},
   "outputs": [],
   "source": [
    "import pandas as pd\n",
    "import numpy as np\n",
    "import matplotlib.pyplot as plt\n",
    "%matplotlib inline\n",
    "import seaborn as sns\n",
    "import datetime\n",
    "import pickle\n",
    "pd.options.display.max_rows = 6000\n",
    "\n",
    "from sklearn.feature_extraction.text import TfidfVectorizer\n",
    "from gensim import corpora, models, similarities, matutils\n",
    "import nltk\n",
    "from nltk.stem import WordNetLemmatizer\n",
    "import re\n",
    "import string\n",
    "from vaderSentiment.vaderSentiment import SentimentIntensityAnalyzer\n",
    "\n",
    "from os import path\n",
    "from PIL import Image\n",
    "from wordcloud import WordCloud, STOPWORDS, ImageColorGenerator\n",
    "\n",
    "\n",
    "# logging for gensim (set to INFO)\n",
    "import logging\n",
    "logging.basicConfig(format='%(asctime)s : %(levelname)s : %(message)s', level=logging.INFO)"
   ]
  },
  {
   "cell_type": "markdown",
   "metadata": {},
   "source": [
    "# Data cleaning\n",
    "\n",
    "__Data overview__<br>\n",
    "-  the data set has 5911 speech from 12 debates from June 26, 2019 to Feb 25, 2020. \n",
    "-  106 people, including host, audience and the candidates\n",
    "\n",
    "__Cleaning steps__<br>\n",
    "-  remove 516 rows whose speaking time is none\n",
    "-  filter in only the candidates whose total speaking time is more than 20 minutes. 13 candidates are left.\n",
    "-  create a new dataframe: every sentence is a seperate row\n",
    "-  basic cleaning of each row: remove numbers, remove punctuations, lower all letters\n",
    "-  filter out the rows with less than 25 space: most of empty space cells and non meaningful sentences are ruled out.\n",
    "-  set the date column to datetime format\n",
    "-  a new dataframe!"
   ]
  },
  {
   "cell_type": "code",
   "execution_count": 2,
   "metadata": {
    "scrolled": true
   },
   "outputs": [],
   "source": [
    "df = pd.read_csv('/Users/peiguo/Documents/Metis/metis-projects/Project4/project4-githubfolder/debate_transcripts_v3_2020-02-26.csv', encoding = 'windows-1252')"
   ]
  },
  {
   "cell_type": "code",
   "execution_count": 3,
   "metadata": {
    "scrolled": false
   },
   "outputs": [
    {
     "data": {
      "text/html": [
       "<div>\n",
       "<style scoped>\n",
       "    .dataframe tbody tr th:only-of-type {\n",
       "        vertical-align: middle;\n",
       "    }\n",
       "\n",
       "    .dataframe tbody tr th {\n",
       "        vertical-align: top;\n",
       "    }\n",
       "\n",
       "    .dataframe thead th {\n",
       "        text-align: right;\n",
       "    }\n",
       "</style>\n",
       "<table border=\"1\" class=\"dataframe\">\n",
       "  <thead>\n",
       "    <tr style=\"text-align: right;\">\n",
       "      <th></th>\n",
       "      <th>date</th>\n",
       "      <th>debate_name</th>\n",
       "      <th>debate_section</th>\n",
       "      <th>speaker</th>\n",
       "      <th>speech</th>\n",
       "      <th>speaking_time_seconds</th>\n",
       "    </tr>\n",
       "  </thead>\n",
       "  <tbody>\n",
       "    <tr>\n",
       "      <th>0</th>\n",
       "      <td>02-25-2020</td>\n",
       "      <td>South Carolina Democratic Debate Transcript: F...</td>\n",
       "      <td>Part 1: South Carolina Democratic Debate Trans...</td>\n",
       "      <td>Norah O’Donnell</td>\n",
       "      <td>Good evening and welcome, the Democratic presi...</td>\n",
       "      <td>8.0</td>\n",
       "    </tr>\n",
       "    <tr>\n",
       "      <th>1</th>\n",
       "      <td>02-25-2020</td>\n",
       "      <td>South Carolina Democratic Debate Transcript: F...</td>\n",
       "      <td>Part 1: South Carolina Democratic Debate Trans...</td>\n",
       "      <td>Gayle King</td>\n",
       "      <td>And Super Tuesday is just a week away and this...</td>\n",
       "      <td>22.0</td>\n",
       "    </tr>\n",
       "    <tr>\n",
       "      <th>2</th>\n",
       "      <td>02-25-2020</td>\n",
       "      <td>South Carolina Democratic Debate Transcript: F...</td>\n",
       "      <td>Part 1: South Carolina Democratic Debate Trans...</td>\n",
       "      <td>Norah O’Donnell</td>\n",
       "      <td>And CBS News is proud to bring you this debate...</td>\n",
       "      <td>14.0</td>\n",
       "    </tr>\n",
       "    <tr>\n",
       "      <th>3</th>\n",
       "      <td>02-25-2020</td>\n",
       "      <td>South Carolina Democratic Debate Transcript: F...</td>\n",
       "      <td>Part 1: South Carolina Democratic Debate Trans...</td>\n",
       "      <td>Gayle King</td>\n",
       "      <td>And we are partnering tonight also with Twitte...</td>\n",
       "      <td>10.0</td>\n",
       "    </tr>\n",
       "    <tr>\n",
       "      <th>4</th>\n",
       "      <td>02-25-2020</td>\n",
       "      <td>South Carolina Democratic Debate Transcript: F...</td>\n",
       "      <td>Part 1: South Carolina Democratic Debate Trans...</td>\n",
       "      <td>Norah O’Donnell</td>\n",
       "      <td>Now, here are the rules for the next two hours...</td>\n",
       "      <td>31.0</td>\n",
       "    </tr>\n",
       "  </tbody>\n",
       "</table>\n",
       "</div>"
      ],
      "text/plain": [
       "         date                                        debate_name  \\\n",
       "0  02-25-2020  South Carolina Democratic Debate Transcript: F...   \n",
       "1  02-25-2020  South Carolina Democratic Debate Transcript: F...   \n",
       "2  02-25-2020  South Carolina Democratic Debate Transcript: F...   \n",
       "3  02-25-2020  South Carolina Democratic Debate Transcript: F...   \n",
       "4  02-25-2020  South Carolina Democratic Debate Transcript: F...   \n",
       "\n",
       "                                      debate_section          speaker  \\\n",
       "0  Part 1: South Carolina Democratic Debate Trans...  Norah O’Donnell   \n",
       "1  Part 1: South Carolina Democratic Debate Trans...       Gayle King   \n",
       "2  Part 1: South Carolina Democratic Debate Trans...  Norah O’Donnell   \n",
       "3  Part 1: South Carolina Democratic Debate Trans...       Gayle King   \n",
       "4  Part 1: South Carolina Democratic Debate Trans...  Norah O’Donnell   \n",
       "\n",
       "                                              speech  speaking_time_seconds  \n",
       "0  Good evening and welcome, the Democratic presi...                    8.0  \n",
       "1  And Super Tuesday is just a week away and this...                   22.0  \n",
       "2  And CBS News is proud to bring you this debate...                   14.0  \n",
       "3  And we are partnering tonight also with Twitte...                   10.0  \n",
       "4  Now, here are the rules for the next two hours...                   31.0  "
      ]
     },
     "execution_count": 3,
     "metadata": {},
     "output_type": "execute_result"
    }
   ],
   "source": [
    "df.head()"
   ]
  },
  {
   "cell_type": "code",
   "execution_count": 4,
   "metadata": {},
   "outputs": [
    {
     "data": {
      "text/plain": [
       "array(['02-25-2020', '02-19-2020', '02-07-2020', '01-14-2020',\n",
       "       '12-19-2019', '11-20-2019', '10-15-2019', '09-12-2019',\n",
       "       '07-31-2019', '07-30-2019', '06-27-2019', '06-26-2019'],\n",
       "      dtype=object)"
      ]
     },
     "execution_count": 4,
     "metadata": {},
     "output_type": "execute_result"
    }
   ],
   "source": [
    "df.date.unique()"
   ]
  },
  {
   "cell_type": "code",
   "execution_count": 5,
   "metadata": {},
   "outputs": [
    {
     "data": {
      "text/plain": [
       "array(['South Carolina Democratic Debate Transcript: February 25 Democratic Debate',\n",
       "       'Democratic Debate Transcript: Las Vegas, Nevada Debate',\n",
       "       'New Hampshire Democratic Debate Transcript',\n",
       "       'January Iowa Democratic Debate Transcript',\n",
       "       'December Democratic Debate Transcript: Sixth Debate from Los Angeles',\n",
       "       'November Democratic Debate Transcript – 5th Debate Transcript from Atlanta',\n",
       "       'October Democratic Debate Transcript: 4th Debate in Ohio',\n",
       "       'September Houston Democratic Debate Transcript – Third Debate',\n",
       "       'Transcript of July Democratic Debate 2nd Round, Night 2: Full Transcript July 31, 2019',\n",
       "       'Transcript of July Democratic Debate 2nd Round Night 1: Full Transcript July 30, 2019',\n",
       "       'Transcript from Night 2 of the First 2019 June Democratic Debates',\n",
       "       'Transcript from Night 1 of the 2019 June Democratic Debates'],\n",
       "      dtype=object)"
      ]
     },
     "execution_count": 5,
     "metadata": {},
     "output_type": "execute_result"
    }
   ],
   "source": [
    "df.debate_name.unique()"
   ]
  },
  {
   "cell_type": "code",
   "execution_count": 6,
   "metadata": {},
   "outputs": [
    {
     "data": {
      "text/plain": [
       "array(['Norah O’Donnell', 'Gayle King', 'Bernie Sanders',\n",
       "       'Michael Bloomberg', 'Pete Buttigieg', 'Elizabeth Warren',\n",
       "       'Tom Steyer', 'Joe Biden', 'Amy Klobuchar', 'Bill Whitaker',\n",
       "       'Major Garrett', 'Speaker 1', 'Margaret Brennan', 'Lester Holt',\n",
       "       'Hallie Jackson', 'Chuck Todd', 'Female', 'Moderator',\n",
       "       'Vanessa Hauc', 'Jon Ralston', 'Helen', 'Moderator 1',\n",
       "       'Moderator 4', 'Audience', 'George S.', 'Andrew Yang',\n",
       "       'Linsey Davis', 'David Muir', 'Monica Hernandez', 'Adam Sexton',\n",
       "       'Devin Dwyer', 'Rachel Scott', 'Announcer', 'Wolf Blitzer',\n",
       "       'Abby Phillips', 'B. Pfannenstiel', 'Moderator 2', 'Brianne P.',\n",
       "       'Judy Woodruff', 'Amy Walter', 'Stephanie Sy', 'Speaker 2',\n",
       "       'Tim Alberta', 'Amna Nawaz', 'Yamiche A.', 'Rachel Maddow',\n",
       "       'Andrea Mitchell', 'Kamala Harris', 'Cory Booker',\n",
       "       'Kristen Welker', 'Ashley Parker', 'Tulsi Gabbard', 'Speaker 3',\n",
       "       'Anderson Cooper', 'Erin Burnett', 'Marc Lacey', 'Julian Castro',\n",
       "       'Beto O’Rourke', 'A. Cooper', 'Jake Tapper', 'Voiceover',\n",
       "       'Jorge Ramos', 'Sec. Castro', 'Speaker 13', 'Dana Bash',\n",
       "       'Bill de Blasio', 'Michael Bennet', 'Jay Inslee',\n",
       "       'Kirsten Gillibrand', 'Don Lemon', 'Crowd', 'Kirseten Gillibrand',\n",
       "       'Speaker 12', 'Diana', 'Steve Bullock', 'Marianne Williamson',\n",
       "       'John Delaney', 'Tim Ryan', 'John H.', 'Male', 'John Hickenloop',\n",
       "       'Speaker 9', 'J. Hickenlooper', 'John King', 'N. Henderson',\n",
       "       'Savanagh G.', 'Bennett', 'Jose D.B.', 'Eric Stalwell',\n",
       "       'Eric Swalwell', 'Speaker 4', 'Speaker 5', 'Speaker 6',\n",
       "       'Speaker 7', 'Speaker 8', 'Savannah G.', 'Steve Kornacki',\n",
       "       'Speaker 16', 'Speaker 17', 'Speaker 15', 'Speaker 18',\n",
       "       'Speaker 19', 'Speaker 20', 'Speaker 10', 'Speaker 11',\n",
       "       'Speaker 14'], dtype=object)"
      ]
     },
     "execution_count": 6,
     "metadata": {},
     "output_type": "execute_result"
    }
   ],
   "source": [
    "df.speaker.unique()"
   ]
  },
  {
   "cell_type": "code",
   "execution_count": 7,
   "metadata": {},
   "outputs": [
    {
     "name": "stdout",
     "output_type": "stream",
     "text": [
      "<class 'pandas.core.frame.DataFrame'>\n",
      "RangeIndex: 5911 entries, 0 to 5910\n",
      "Data columns (total 6 columns):\n",
      "date                     5911 non-null object\n",
      "debate_name              5911 non-null object\n",
      "debate_section           5911 non-null object\n",
      "speaker                  5911 non-null object\n",
      "speech                   5911 non-null object\n",
      "speaking_time_seconds    5395 non-null float64\n",
      "dtypes: float64(1), object(5)\n",
      "memory usage: 277.2+ KB\n"
     ]
    }
   ],
   "source": [
    "df.info()\n",
    "# speaking_time_seconds has hunderds of none values"
   ]
  },
  {
   "cell_type": "code",
   "execution_count": 8,
   "metadata": {},
   "outputs": [
    {
     "data": {
      "text/plain": [
       "array(['Bernie Sanders', 'Michael Bloomberg', 'Pete Buttigieg',\n",
       "       'Elizabeth Warren', 'Tom Steyer', 'Joe Biden', 'Amy Klobuchar',\n",
       "       'Andrew Yang', 'Kamala Harris', 'Cory Booker', 'Tulsi Gabbard',\n",
       "       'Julian Castro', 'Beto O’Rourke'], dtype=object)"
      ]
     },
     "execution_count": 8,
     "metadata": {},
     "output_type": "execute_result"
    }
   ],
   "source": [
    "#df.isna().sum()\n",
    "df.dropna(inplace = True)   # remove rows with none value\n",
    "df.reset_index(drop=True, inplace = True)\n",
    "\n",
    "# filter in only the candidate whose total speaking time is more than 20 minutes.\n",
    "df = df.groupby(df.speaker).filter(lambda x: x.speaking_time_seconds.sum() > 1200)\n",
    "df.reset_index(drop=True, inplace = True)\n",
    "df.speaker.unique()"
   ]
  },
  {
   "cell_type": "markdown",
   "metadata": {},
   "source": [
    "In order to analyze the sentence sentiment, we need to have one sentence in each row. <br>\n",
    "The functions below will create a new dataframe which is grouped by dates and speakers, and has one sentence each row."
   ]
  },
  {
   "cell_type": "code",
   "execution_count": 9,
   "metadata": {},
   "outputs": [],
   "source": [
    "namelist = df.speaker.unique()\n",
    "datelist = df.date.unique()\n",
    "\n",
    "def df_speaker_sentence(date, name):\n",
    "    '''\n",
    "    create a dataframe that has three columns: date, speaker name and sentences.\n",
    "    each row has one sentence from this speaker on this date.\n",
    "    '''\n",
    "    df_speaker_sentence = pd.DataFrame()\n",
    "    person_speech = df.loc[(df.speaker == name) & (df.date == date)].speech   # if the name is not there, will return an empty series.\n",
    "    if not person_speech.empty:   # check if a dataframe/series is empty. because some speakers did not show up in certain debates           \n",
    "        text = ''\n",
    "        for speech in person_speech:\n",
    "            text = text +' ' + speech  # a long string has all the speech from this speaker\n",
    "        list_sent = nltk.tokenize.sent_tokenize(text) # split the entire speech into a list of sentences\n",
    "        list_date = [date]*len(list_sent)\n",
    "        list_speaker = [name]*len(list_sent)\n",
    "        df_speaker_sentence['date'] = list_date\n",
    "        df_speaker_sentence['speaker'] = list_speaker\n",
    "        df_speaker_sentence['sentence'] = list_sent \n",
    "        return df_speaker_sentence\n",
    "\n",
    "def df_date_skeaker_sentence(date, namelist):\n",
    "    '''\n",
    "    create a dataframe that has 3 columns: date, speaker, sentences.\n",
    "    date column only has one date from the input, the speaker column is grouped by the namelist.\n",
    "    each speaker's each sentence has its own row.\n",
    "    '''\n",
    "    df_all_speaker = pd.DataFrame()\n",
    "    for name in namelist:\n",
    "        df_name = df_speaker_sentence(date, name)\n",
    "        if df_name is not None:\n",
    "            df_all_speaker = pd.concat([df_all_speaker, df_name], ignore_index = True) # concat an empty df and a df\n",
    "        else:continue\n",
    "    return df_all_speaker\n",
    "    \n",
    "def df_speech_to_sentence(namelist, datelist):\n",
    "    '''\n",
    "    This function extends the dataframe from the df_date_skeaker_sentence function.\n",
    "    It has all the dates, grouped by dates. \n",
    "    Within each dates section, the speaker column is grouped by speakers.\n",
    "    Each sentence of the speaker has its own row. \n",
    "    '''\n",
    "    df_speech_to_sentence = pd.DataFrame()\n",
    "    for date in datelist:\n",
    "        df_date = df_date_skeaker_sentence(date, namelist)\n",
    "        df_speech_to_sentence = pd.concat([df_speech_to_sentence,df_date],ignore_index = True)\n",
    "    return df_speech_to_sentence"
   ]
  },
  {
   "cell_type": "code",
   "execution_count": 10,
   "metadata": {},
   "outputs": [
    {
     "data": {
      "text/html": [
       "<div>\n",
       "<style scoped>\n",
       "    .dataframe tbody tr th:only-of-type {\n",
       "        vertical-align: middle;\n",
       "    }\n",
       "\n",
       "    .dataframe tbody tr th {\n",
       "        vertical-align: top;\n",
       "    }\n",
       "\n",
       "    .dataframe thead th {\n",
       "        text-align: right;\n",
       "    }\n",
       "</style>\n",
       "<table border=\"1\" class=\"dataframe\">\n",
       "  <thead>\n",
       "    <tr style=\"text-align: right;\">\n",
       "      <th></th>\n",
       "      <th>date</th>\n",
       "      <th>speaker</th>\n",
       "      <th>sentence</th>\n",
       "    </tr>\n",
       "  </thead>\n",
       "  <tbody>\n",
       "    <tr>\n",
       "      <th>0</th>\n",
       "      <td>02-25-2020</td>\n",
       "      <td>Bernie Sanders</td>\n",
       "      <td>Well, you’re right, the economy is doing real...</td>\n",
       "    </tr>\n",
       "    <tr>\n",
       "      <th>1</th>\n",
       "      <td>02-25-2020</td>\n",
       "      <td>Bernie Sanders</td>\n",
       "      <td>In the last three years, last three years, bil...</td>\n",
       "    </tr>\n",
       "    <tr>\n",
       "      <th>2</th>\n",
       "      <td>02-25-2020</td>\n",
       "      <td>Bernie Sanders</td>\n",
       "      <td>But you know what, for the ordinary American t...</td>\n",
       "    </tr>\n",
       "    <tr>\n",
       "      <th>3</th>\n",
       "      <td>02-25-2020</td>\n",
       "      <td>Bernie Sanders</td>\n",
       "      <td>Last year, real wage increases for the average...</td>\n",
       "    </tr>\n",
       "    <tr>\n",
       "      <th>4</th>\n",
       "      <td>02-25-2020</td>\n",
       "      <td>Bernie Sanders</td>\n",
       "      <td>Half of our people are living paycheck to payc...</td>\n",
       "    </tr>\n",
       "  </tbody>\n",
       "</table>\n",
       "</div>"
      ],
      "text/plain": [
       "         date         speaker  \\\n",
       "0  02-25-2020  Bernie Sanders   \n",
       "1  02-25-2020  Bernie Sanders   \n",
       "2  02-25-2020  Bernie Sanders   \n",
       "3  02-25-2020  Bernie Sanders   \n",
       "4  02-25-2020  Bernie Sanders   \n",
       "\n",
       "                                            sentence  \n",
       "0   Well, you’re right, the economy is doing real...  \n",
       "1  In the last three years, last three years, bil...  \n",
       "2  But you know what, for the ordinary American t...  \n",
       "3  Last year, real wage increases for the average...  \n",
       "4  Half of our people are living paycheck to payc...  "
      ]
     },
     "execution_count": 10,
     "metadata": {},
     "output_type": "execute_result"
    }
   ],
   "source": [
    "df = df_speech_to_sentence(namelist, datelist)\n",
    "df.head()"
   ]
  },
  {
   "cell_type": "code",
   "execution_count": 12,
   "metadata": {},
   "outputs": [],
   "source": [
    "# remove words with numbers\n",
    "alphanumeric = lambda x: re.sub('\\w*\\d\\w*', ' ', x) \n",
    "\n",
    "# remove punctuations and lower the letters\n",
    "punc_lower = lambda x: re.sub('[%s]' % re.escape('!\"“\"”#$%&\\'’()*+,-./:;<=>?@[\\\\]^_`{|}~'), ' ', x.lower())\n",
    "df.sentence = df.sentence.map(alphanumeric).map(punc_lower)\n",
    "\n",
    "# remove rows with sentences length less than 25 characters, because short sentence are meaningless for sentiment analysis and topic modelling.\n",
    "df = df[df.sentence.str.len() > 25]"
   ]
  },
  {
   "cell_type": "code",
   "execution_count": 13,
   "metadata": {},
   "outputs": [],
   "source": [
    "df.date = pd.to_datetime(df.date).dt.date"
   ]
  },
  {
   "cell_type": "code",
   "execution_count": 14,
   "metadata": {},
   "outputs": [
    {
     "name": "stdout",
     "output_type": "stream",
     "text": [
      "<class 'pandas.core.frame.DataFrame'>\n",
      "Int64Index: 9793 entries, 0 to 11222\n",
      "Data columns (total 3 columns):\n",
      "date        9793 non-null object\n",
      "speaker     9793 non-null object\n",
      "sentence    9793 non-null object\n",
      "dtypes: object(3)\n",
      "memory usage: 306.0+ KB\n"
     ]
    }
   ],
   "source": [
    "df.info()"
   ]
  },
  {
   "cell_type": "code",
   "execution_count": 15,
   "metadata": {},
   "outputs": [
    {
     "data": {
      "text/html": [
       "<div>\n",
       "<style scoped>\n",
       "    .dataframe tbody tr th:only-of-type {\n",
       "        vertical-align: middle;\n",
       "    }\n",
       "\n",
       "    .dataframe tbody tr th {\n",
       "        vertical-align: top;\n",
       "    }\n",
       "\n",
       "    .dataframe thead th {\n",
       "        text-align: right;\n",
       "    }\n",
       "</style>\n",
       "<table border=\"1\" class=\"dataframe\">\n",
       "  <thead>\n",
       "    <tr style=\"text-align: right;\">\n",
       "      <th></th>\n",
       "      <th>date</th>\n",
       "      <th>speaker</th>\n",
       "      <th>sentence</th>\n",
       "    </tr>\n",
       "  </thead>\n",
       "  <tbody>\n",
       "    <tr>\n",
       "      <th>0</th>\n",
       "      <td>2020-02-25</td>\n",
       "      <td>Bernie Sanders</td>\n",
       "      <td>well  you re right  the economy is doing real...</td>\n",
       "    </tr>\n",
       "    <tr>\n",
       "      <th>1</th>\n",
       "      <td>2020-02-25</td>\n",
       "      <td>Bernie Sanders</td>\n",
       "      <td>in the last three years  last three years  bil...</td>\n",
       "    </tr>\n",
       "    <tr>\n",
       "      <th>2</th>\n",
       "      <td>2020-02-25</td>\n",
       "      <td>Bernie Sanders</td>\n",
       "      <td>but you know what  for the ordinary american t...</td>\n",
       "    </tr>\n",
       "    <tr>\n",
       "      <th>3</th>\n",
       "      <td>2020-02-25</td>\n",
       "      <td>Bernie Sanders</td>\n",
       "      <td>last year  real wage increases for the average...</td>\n",
       "    </tr>\n",
       "    <tr>\n",
       "      <th>4</th>\n",
       "      <td>2020-02-25</td>\n",
       "      <td>Bernie Sanders</td>\n",
       "      <td>half of our people are living paycheck to payc...</td>\n",
       "    </tr>\n",
       "  </tbody>\n",
       "</table>\n",
       "</div>"
      ],
      "text/plain": [
       "         date         speaker  \\\n",
       "0  2020-02-25  Bernie Sanders   \n",
       "1  2020-02-25  Bernie Sanders   \n",
       "2  2020-02-25  Bernie Sanders   \n",
       "3  2020-02-25  Bernie Sanders   \n",
       "4  2020-02-25  Bernie Sanders   \n",
       "\n",
       "                                            sentence  \n",
       "0   well  you re right  the economy is doing real...  \n",
       "1  in the last three years  last three years  bil...  \n",
       "2  but you know what  for the ordinary american t...  \n",
       "3  last year  real wage increases for the average...  \n",
       "4  half of our people are living paycheck to payc...  "
      ]
     },
     "execution_count": 15,
     "metadata": {},
     "output_type": "execute_result"
    }
   ],
   "source": [
    "df.head()"
   ]
  },
  {
   "cell_type": "code",
   "execution_count": 16,
   "metadata": {},
   "outputs": [],
   "source": [
    "with open('df_sentence', 'wb') as to_write:\n",
    "    pickle.dump(df, to_write)"
   ]
  },
  {
   "cell_type": "code",
   "execution_count": 17,
   "metadata": {},
   "outputs": [],
   "source": [
    "with open ('df_sentence', 'rb') as to_read:\n",
    "    df = pickle.load(to_read)"
   ]
  },
  {
   "cell_type": "code",
   "execution_count": 18,
   "metadata": {},
   "outputs": [
    {
     "data": {
      "text/plain": [
       "(9793, 3)"
      ]
     },
     "execution_count": 18,
     "metadata": {},
     "output_type": "execute_result"
    }
   ],
   "source": [
    "df.shape"
   ]
  },
  {
   "cell_type": "markdown",
   "metadata": {},
   "source": [
    "# Most used words per candidate?"
   ]
  },
  {
   "cell_type": "code",
   "execution_count": 19,
   "metadata": {},
   "outputs": [
    {
     "data": {
      "text/plain": [
       "array(['Bernie Sanders', 'Michael Bloomberg', 'Pete Buttigieg',\n",
       "       'Elizabeth Warren', 'Tom Steyer', 'Joe Biden', 'Amy Klobuchar',\n",
       "       'Andrew Yang', 'Kamala Harris', 'Cory Booker', 'Tulsi Gabbard',\n",
       "       'Julian Castro', 'Beto O’Rourke'], dtype=object)"
      ]
     },
     "execution_count": 19,
     "metadata": {},
     "output_type": "execute_result"
    }
   ],
   "source": [
    "df.speaker.unique()"
   ]
  },
  {
   "cell_type": "code",
   "execution_count": 21,
   "metadata": {},
   "outputs": [
    {
     "data": {
      "image/png": "[encoded data removed]",
      "text/plain": [
       "<Figure size 504x504 with 1 Axes>"
      ]
     },
     "metadata": {
      "needs_background": "light"
     },
     "output_type": "display_data"
    }
   ],
   "source": [
    "# a long string with all the speech from this person\n",
    "df_person = df[df.speaker=='Bernie Sanders'] \n",
    "text = \" \".join(sentence for sentence in df_person.sentence)\n",
    "\n",
    "\n",
    "from wordcloud import WordCloud, STOPWORDS, ImageColorGenerator\n",
    "\n",
    "# use the stopwords from wordcloud + my own words\n",
    "stopwords = set(STOPWORDS)\n",
    "stopwords.update([\"drink\", \"now\", \"wine\", \"flavor\", \"flavors\",'going','re','say','got','don',\n",
    "                  'let','ve','city','need','make','sure','think','every','will','united','states',\n",
    "                 'mr','well','done', 'two','ago','thing','first','number','around','american'])\n",
    "\n",
    "# a mask to make every word cloud picture has a long rectangular shape, like the ribbons of the USA flag\n",
    "maskred = np.array(Image.open(\"pictures/redbar.png\")) \n",
    "\n",
    "#generate the word cloud with customized parameters\n",
    "wordcloud = WordCloud(color_func=lambda *args, **kwargs: \"blue\", background_color=\"white\", \n",
    "                      max_words=20, stopwords=stopwords, mask=maskred).generate(text)\n",
    "\n",
    "\n",
    "plt.figure(figsize=[7,7])\n",
    "plt.imshow(wordcloud, interpolation=\"bilinear\")\n",
    "plt.axis(\"off\")\n",
    "plt.savefig(\"B_San.png\", format=\"png\")\n",
    "plt.show()"
   ]
  },
  {
   "cell_type": "markdown",
   "metadata": {},
   "source": [
    "# Sentiment change per candidate over all debates?"
   ]
  },
  {
   "cell_type": "code",
   "execution_count": 23,
   "metadata": {},
   "outputs": [
    {
     "data": {
      "text/html": [
       "<div>\n",
       "<style scoped>\n",
       "    .dataframe tbody tr th:only-of-type {\n",
       "        vertical-align: middle;\n",
       "    }\n",
       "\n",
       "    .dataframe tbody tr th {\n",
       "        vertical-align: top;\n",
       "    }\n",
       "\n",
       "    .dataframe thead th {\n",
       "        text-align: right;\n",
       "    }\n",
       "</style>\n",
       "<table border=\"1\" class=\"dataframe\">\n",
       "  <thead>\n",
       "    <tr style=\"text-align: right;\">\n",
       "      <th></th>\n",
       "      <th>date</th>\n",
       "      <th>speaker</th>\n",
       "      <th>sentence</th>\n",
       "      <th>sentiment</th>\n",
       "      <th>senti_comp</th>\n",
       "    </tr>\n",
       "  </thead>\n",
       "  <tbody>\n",
       "    <tr>\n",
       "      <th>0</th>\n",
       "      <td>2020-02-25</td>\n",
       "      <td>Bernie Sanders</td>\n",
       "      <td>well  you re right  the economy is doing real...</td>\n",
       "      <td>{'neg': 0.0, 'neu': 0.625, 'pos': 0.375, 'comp...</td>\n",
       "      <td>0.8399</td>\n",
       "    </tr>\n",
       "    <tr>\n",
       "      <th>1</th>\n",
       "      <td>2020-02-25</td>\n",
       "      <td>Bernie Sanders</td>\n",
       "      <td>in the last three years  last three years  bil...</td>\n",
       "      <td>{'neg': 0.0, 'neu': 0.756, 'pos': 0.244, 'comp...</td>\n",
       "      <td>0.6705</td>\n",
       "    </tr>\n",
       "    <tr>\n",
       "      <th>2</th>\n",
       "      <td>2020-02-25</td>\n",
       "      <td>Bernie Sanders</td>\n",
       "      <td>but you know what  for the ordinary american t...</td>\n",
       "      <td>{'neg': 0.252, 'neu': 0.748, 'pos': 0.0, 'comp...</td>\n",
       "      <td>-0.6178</td>\n",
       "    </tr>\n",
       "    <tr>\n",
       "      <th>3</th>\n",
       "      <td>2020-02-25</td>\n",
       "      <td>Bernie Sanders</td>\n",
       "      <td>last year  real wage increases for the average...</td>\n",
       "      <td>{'neg': 0.0, 'neu': 1.0, 'pos': 0.0, 'compound...</td>\n",
       "      <td>0.0000</td>\n",
       "    </tr>\n",
       "    <tr>\n",
       "      <th>4</th>\n",
       "      <td>2020-02-25</td>\n",
       "      <td>Bernie Sanders</td>\n",
       "      <td>half of our people are living paycheck to payc...</td>\n",
       "      <td>{'neg': 0.0, 'neu': 1.0, 'pos': 0.0, 'compound...</td>\n",
       "      <td>0.0000</td>\n",
       "    </tr>\n",
       "  </tbody>\n",
       "</table>\n",
       "</div>"
      ],
      "text/plain": [
       "         date         speaker  \\\n",
       "0  2020-02-25  Bernie Sanders   \n",
       "1  2020-02-25  Bernie Sanders   \n",
       "2  2020-02-25  Bernie Sanders   \n",
       "3  2020-02-25  Bernie Sanders   \n",
       "4  2020-02-25  Bernie Sanders   \n",
       "\n",
       "                                            sentence  \\\n",
       "0   well  you re right  the economy is doing real...   \n",
       "1  in the last three years  last three years  bil...   \n",
       "2  but you know what  for the ordinary american t...   \n",
       "3  last year  real wage increases for the average...   \n",
       "4  half of our people are living paycheck to payc...   \n",
       "\n",
       "                                           sentiment  senti_comp  \n",
       "0  {'neg': 0.0, 'neu': 0.625, 'pos': 0.375, 'comp...      0.8399  \n",
       "1  {'neg': 0.0, 'neu': 0.756, 'pos': 0.244, 'comp...      0.6705  \n",
       "2  {'neg': 0.252, 'neu': 0.748, 'pos': 0.0, 'comp...     -0.6178  \n",
       "3  {'neg': 0.0, 'neu': 1.0, 'pos': 0.0, 'compound...      0.0000  \n",
       "4  {'neg': 0.0, 'neu': 1.0, 'pos': 0.0, 'compound...      0.0000  "
      ]
     },
     "execution_count": 23,
     "metadata": {},
     "output_type": "execute_result"
    }
   ],
   "source": [
    "from vaderSentiment.vaderSentiment import SentimentIntensityAnalyzer\n",
    "\n",
    "df['sentiment'] = np.nan\n",
    "analyser = SentimentIntensityAnalyzer()\n",
    "df.sentiment = df.sentence.apply(lambda x: analyser.polarity_scores(x))\n",
    "\n",
    "df['senti_comp'] = np.nan\n",
    "df.senti_comp = df.sentiment.apply(lambda x: x['compound'])\n",
    "\n",
    "df.head()"
   ]
  },
  {
   "cell_type": "code",
   "execution_count": 70,
   "metadata": {},
   "outputs": [
    {
     "data": {
      "image/png": "[encoded data removed]",
      "text/plain": [
       "<Figure size 432x288 with 1 Axes>"
      ]
     },
     "metadata": {
      "needs_background": "light"
     },
     "output_type": "display_data"
    },
    {
     "data": {
      "image/png": "[encoded data removed]",
      "text/plain": [
       "<Figure size 432x288 with 1 Axes>"
      ]
     },
     "metadata": {
      "needs_background": "light"
     },
     "output_type": "display_data"
    },
    {
     "data": {
      "image/png": "[encoded data removed]",
      "text/plain": [
       "<Figure size 432x288 with 1 Axes>"
      ]
     },
     "metadata": {
      "needs_background": "light"
     },
     "output_type": "display_data"
    },
    {
     "data": {
      "image/png": "[encoded data removed]",
      "text/plain": [
       "<Figure size 432x288 with 1 Axes>"
      ]
     },
     "metadata": {
      "needs_background": "light"
     },
     "output_type": "display_data"
    },
    {
     "data": {
      "image/png": "[encoded data removed]",
      "text/plain": [
       "<Figure size 432x288 with 1 Axes>"
      ]
     },
     "metadata": {
      "needs_background": "light"
     },
     "output_type": "display_data"
    },
    {
     "data": {
      "image/png": "[encoded data removed]",
      "text/plain": [
       "<Figure size 432x288 with 1 Axes>"
      ]
     },
     "metadata": {
      "needs_background": "light"
     },
     "output_type": "display_data"
    },
    {
     "data": {
      "image/png": "[encoded data removed]",
      "text/plain": [
       "<Figure size 432x288 with 1 Axes>"
      ]
     },
     "metadata": {
      "needs_background": "light"
     },
     "output_type": "display_data"
    },
    {
     "data": {
      "image/png": "[encoded data removed]",
      "text/plain": [
       "<Figure size 432x288 with 1 Axes>"
      ]
     },
     "metadata": {
      "needs_background": "light"
     },
     "output_type": "display_data"
    },
    {
     "data": {
      "image/png": "[encoded data removed]",
      "text/plain": [
       "<Figure size 432x288 with 1 Axes>"
      ]
     },
     "metadata": {
      "needs_background": "light"
     },
     "output_type": "display_data"
    },
    {
     "data": {
      "image/png": "[encoded data removed]",
      "text/plain": [
       "<Figure size 432x288 with 1 Axes>"
      ]
     },
     "metadata": {
      "needs_background": "light"
     },
     "output_type": "display_data"
    },
    {
     "data": {
      "image/png": "[encoded data removed]",
      "text/plain": [
       "<Figure size 432x288 with 1 Axes>"
      ]
     },
     "metadata": {
      "needs_background": "light"
     },
     "output_type": "display_data"
    },
    {
     "data": {
      "image/png": "[encoded data removed]",
      "text/plain": [
       "<Figure size 432x288 with 1 Axes>"
      ]
     },
     "metadata": {
      "needs_background": "light"
     },
     "output_type": "display_data"
    },
    {
     "data": {
      "image/png": "[encoded data removed]",
      "text/plain": [
       "<Figure size 432x288 with 1 Axes>"
      ]
     },
     "metadata": {
      "needs_background": "light"
     },
     "output_type": "display_data"
    }
   ],
   "source": [
    "colorlist = ['sienna','chocolate','darkorange','orange','mediumblue','royalblue','dodgerblue','cornflowerblue','lightskyblue','darkorchid','orchid','pink','hotpink']\n",
    "for name, color in zip(df.speaker.unique(), colorlist):\n",
    "    plt.figure()\n",
    "    plt.rcParams['font.family'] = 'sans-serif'\n",
    "    df[df.speaker == name].groupby('date').senti_comp.mean().plot.bar(label = name, color = color )\n",
    "    plt.legend() #bbox_to_anchor=(1, 1)\n",
    "    plt.savefig(\"{}-sentiment.png\".format(name), format=\"png\", bbox_inches='tight')"
   ]
  },
  {
   "cell_type": "markdown",
   "metadata": {},
   "source": [
    "# Preparation for modeling"
   ]
  },
  {
   "cell_type": "code",
   "execution_count": 71,
   "metadata": {},
   "outputs": [],
   "source": [
    "# Lemmatation\n",
    "def tokenize(text):\n",
    "    tokens = nltk.word_tokenize(text)\n",
    "    lemmas = []\n",
    "    for item in tokens:\n",
    "        lemmas.append(WordNetLemmatizer().lemmatize(item))\n",
    "    return lemmas"
   ]
  },
  {
   "cell_type": "code",
   "execution_count": 72,
   "metadata": {},
   "outputs": [],
   "source": [
    "#nltk.download('punkt')\n",
    "#nltk.download('wordnet')"
   ]
  },
  {
   "cell_type": "code",
   "execution_count": 74,
   "metadata": {},
   "outputs": [],
   "source": [
    "# for stopwords\n",
    "\n",
    "#get the stop words from sklearn\n",
    "from sklearn.feature_extraction import stop_words\n",
    "sk_stop = list(stop_words.ENGLISH_STOP_WORDS)\n",
    "sk_stop_remove = ['thick','amount','former','bill','sincere','bottom','thin','system','fire','cry','across','mill','interest']\n",
    "my_sk_stop = [item for item in sk_stop if item not in sk_stop_remove]\n",
    "\n",
    "#get the stop words from NLTK\n",
    "from nltk.corpus import stopwords\n",
    "#nltk.download('stopwords')\n",
    "nltk_stop = stopwords.words('english')\n",
    "mywords = ['crosstalk','silence','thank','thanks','mr','look',\"i've\",'inaudible',\n",
    "           'means','yes','no','think',\"let's\",'let','s','all','also','excuse','time',\n",
    "           'talking','sorry','thirdly','secondly','first','well','years','wa','going','thing','want','need',\n",
    "          'ha','make','know','said','u','got','way','say','year','like','come','day','able','agree','sure','plan',\n",
    "          'care','senator','believe','donald','talk',\"'d\", \"'ll\", \"'re\", \"'s\", \"'ve\", 'doe', 'le', 'mean', \"n't\",\n",
    "           'sha', 'wo',\"…\",'people','america','american','president','country','vice','tell','lot',\n",
    "          'point','state','united','bring','running','fact','talked','clear','problem','issue','question','add','different',\n",
    "          'getting','stage','start','long','exactly','better','best','happened','wanted','ask','answer','new','big',\n",
    "          'actually','old','happening','moment','important','really','worked','mayor',\n",
    "          'month','away','saying','win','example','today','started','good','matter','everybody','wrong','debate',\n",
    "          'making','bernie','biden','reason','okay','asked','conversation','check','great','stop',\n",
    "          'option','position','solution','experience','respond','number','party','pas','warren','fight','senate','house','congress',\n",
    "          'white','beginning','barack','work','republican','democrat','willing','campaign','passed','change','pa','told','went',\n",
    "          'across','folk','join','help','met','ago','cent','seen','com','real','idea','second','wait','election','kind',\n",
    "           'special','decision','act',\"promise\" ,'bill','remember','hear','sander','tonight','right','mitch','mcconnell', 'commander','chief']\n",
    "\n",
    "#backup = ['white','fix',\"barack\",'single','anybody' ,'white house','place',]\n",
    "    \n",
    "    \n",
    "mynewwords = [word for word in mywords if word not in nltk_stop]\n",
    "my_nltk_stop = nltk_stop + mynewwords\n",
    "\n",
    "newwords = [word for word in my_nltk_stop if word not in my_sk_stop]\n",
    "my_stopwords = my_sk_stop + newwords"
   ]
  },
  {
   "cell_type": "code",
   "execution_count": 75,
   "metadata": {},
   "outputs": [
    {
     "data": {
      "text/plain": [
       "183"
      ]
     },
     "execution_count": 75,
     "metadata": {},
     "output_type": "execute_result"
    }
   ],
   "source": [
    "len(mywords)"
   ]
  },
  {
   "cell_type": "code",
   "execution_count": 76,
   "metadata": {},
   "outputs": [],
   "source": [
    "#def tfidf_corpus():\n",
    "tfv = TfidfVectorizer(encoding = 'windows-1252', token_pattern= r'(?u)\\b[A-Za-z]+\\b', stop_words = my_stopwords, tokenizer = tokenize, ngram_range = (1, 2), max_df = 0.95)\n",
    "doc_word = tfv.fit_transform(df.sentence).transpose()\n",
    "corpus = matutils.Sparse2Corpus(doc_word)\n",
    "#pd.DataFrame(tfv.fit_transform(cleanspeech)toarray(), columns = tfv.get_feature_names())\n",
    "\n",
    "id2word = dict((v, k) for k, v in tfv.vocabulary_.items())"
   ]
  },
  {
   "cell_type": "code",
   "execution_count": 77,
   "metadata": {},
   "outputs": [
    {
     "data": {
      "text/plain": [
       "<36667x9793 sparse matrix of type '<class 'numpy.float64'>'\n",
       "\twith 83675 stored elements in Compressed Sparse Column format>"
      ]
     },
     "execution_count": 77,
     "metadata": {},
     "output_type": "execute_result"
    }
   ],
   "source": [
    "doc_word"
   ]
  },
  {
   "cell_type": "code",
   "execution_count": 78,
   "metadata": {},
   "outputs": [
    {
     "name": "stdout",
     "output_type": "stream",
     "text": [
      "[(23402, 0.3671338357688316), (19260, 0.3731786429792333), (14177, 0.3731786429792333), (23394, 0.6608479801561632), (19250, 0.2798604757089274), (14157, 0.267668094365975)]\n"
     ]
    }
   ],
   "source": [
    "print(corpus[4])"
   ]
  },
  {
   "cell_type": "code",
   "execution_count": 79,
   "metadata": {},
   "outputs": [
    {
     "data": {
      "text/plain": [
       "9793"
      ]
     },
     "execution_count": 79,
     "metadata": {},
     "output_type": "execute_result"
    }
   ],
   "source": [
    "len(corpus)"
   ]
  },
  {
   "cell_type": "markdown",
   "metadata": {},
   "source": [
    "# Topic modeling: LDA"
   ]
  },
  {
   "cell_type": "code",
   "execution_count": 106,
   "metadata": {
    "scrolled": true
   },
   "outputs": [
    {
     "name": "stderr",
     "output_type": "stream",
     "text": [
      "2020-04-10 18:02:54,852 : INFO : using symmetric alpha at 0.16666666666666666\n",
      "2020-04-10 18:02:54,854 : INFO : using symmetric eta at 0.16666666666666666\n",
      "2020-04-10 18:02:54,867 : INFO : using serial LDA version on this node\n",
      "2020-04-10 18:02:54,896 : INFO : running online (multi-pass) LDA training, 6 topics, 5 passes over the supplied corpus of 9793 documents, updating model once every 2000 documents, evaluating perplexity every 9793 documents, iterating 50x with a convergence threshold of 0.001000\n",
      "2020-04-10 18:02:54,915 : INFO : PROGRESS: pass 0, at document #2000/9793\n",
      "2020-04-10 18:02:55,680 : INFO : merging changes from 2000 documents into a model of 9793 documents\n",
      "2020-04-10 18:02:55,695 : INFO : topic #1 (0.167): 0.003*\"tax\" + 0.002*\"healthcare\" + 0.001*\"hard\" + 0.001*\"trillion\" + 0.001*\"pay\" + 0.001*\"beat\" + 0.001*\"value\" + 0.001*\"billion\" + 0.001*\"poll\" + 0.001*\"lead\"\n",
      "2020-04-10 18:02:55,697 : INFO : topic #5 (0.167): 0.002*\"record\" + 0.002*\"bloomberg\" + 0.002*\"week\" + 0.001*\"trump\" + 0.001*\"money\" + 0.001*\"process\" + 0.001*\"maybe\" + 0.001*\"tax\" + 0.001*\"agreement\" + 0.001*\"run\"\n",
      "2020-04-10 18:02:55,701 : INFO : topic #4 (0.167): 0.003*\"math\" + 0.003*\"support\" + 0.001*\"obama\" + 0.001*\"working\" + 0.001*\"black\" + 0.001*\"majority\" + 0.001*\"shock\" + 0.001*\"health\" + 0.001*\"joe\" + 0.001*\"left\"\n",
      "2020-04-10 18:02:55,708 : INFO : topic #2 (0.167): 0.003*\"money\" + 0.002*\"education\" + 0.002*\"healthcare\" + 0.002*\"program\" + 0.001*\"control\" + 0.001*\"straight\" + 0.001*\"build\" + 0.001*\"tax\" + 0.001*\"chance\" + 0.001*\"woman\"\n",
      "2020-04-10 18:02:55,715 : INFO : topic #0 (0.167): 0.003*\"trump\" + 0.003*\"vote\" + 0.002*\"wealth\" + 0.002*\"tax\" + 0.002*\"business\" + 0.001*\"working\" + 0.001*\"transparency\" + 0.001*\"called\" + 0.001*\"washington\" + 0.001*\"beat trump\"\n",
      "2020-04-10 18:02:55,718 : INFO : topic diff=4.393251, rho=1.000000\n",
      "2020-04-10 18:02:55,744 : INFO : PROGRESS: pass 0, at document #4000/9793\n",
      "2020-04-10 18:02:56,374 : INFO : merging changes from 2000 documents into a model of 9793 documents\n",
      "2020-04-10 18:02:56,386 : INFO : topic #1 (0.167): 0.002*\"pay\" + 0.002*\"healthcare\" + 0.002*\"tax\" + 0.002*\"mistake\" + 0.002*\"childcare\" + 0.002*\"lead\" + 0.002*\"world\" + 0.002*\"region\" + 0.002*\"poll\" + 0.002*\"climate\"\n",
      "2020-04-10 18:02:56,388 : INFO : topic #0 (0.167): 0.004*\"trump\" + 0.003*\"working\" + 0.003*\"vote\" + 0.002*\"beat\" + 0.002*\"beat trump\" + 0.002*\"job\" + 0.002*\"tax\" + 0.002*\"family\" + 0.002*\"government\" + 0.002*\"wealth\"\n",
      "2020-04-10 18:02:56,392 : INFO : topic #2 (0.167): 0.003*\"healthcare\" + 0.003*\"troop\" + 0.002*\"money\" + 0.002*\"education\" + 0.002*\"place\" + 0.002*\"build\" + 0.002*\"policy\" + 0.002*\"woman\" + 0.002*\"corruption\" + 0.001*\"biggest\"\n",
      "2020-04-10 18:02:56,400 : INFO : topic #3 (0.167): 0.003*\"war\" + 0.003*\"ally\" + 0.002*\"cost\" + 0.002*\"iraq\" + 0.002*\"million\" + 0.001*\"case\" + 0.001*\"love\" + 0.001*\"democracy\" + 0.001*\"lower\" + 0.001*\"lost\"\n",
      "2020-04-10 18:02:56,405 : INFO : topic #4 (0.167): 0.002*\"support\" + 0.002*\"medicare\" + 0.002*\"asking\" + 0.002*\"world\" + 0.001*\"course\" + 0.001*\"joe\" + 0.001*\"disagree\" + 0.001*\"black\" + 0.001*\"understand\" + 0.001*\"health\"\n",
      "2020-04-10 18:02:56,409 : INFO : topic diff=0.377958, rho=0.707107\n",
      "2020-04-10 18:02:56,440 : INFO : PROGRESS: pass 0, at document #6000/9793\n",
      "2020-04-10 18:02:57,042 : INFO : merging changes from 2000 documents into a model of 9793 documents\n",
      "2020-04-10 18:02:57,055 : INFO : topic #4 (0.167): 0.002*\"medicare\" + 0.002*\"woman\" + 0.002*\"world\" + 0.001*\"support\" + 0.001*\"black\" + 0.001*\"asking\" + 0.001*\"parent\" + 0.001*\"understand\" + 0.001*\"decade\" + 0.001*\"corrupt\"\n",
      "2020-04-10 18:02:57,059 : INFO : topic #0 (0.167): 0.004*\"trump\" + 0.002*\"vote\" + 0.002*\"beat\" + 0.002*\"tax\" + 0.002*\"class\" + 0.002*\"washington\" + 0.002*\"government\" + 0.002*\"family\" + 0.002*\"corporation\" + 0.002*\"working\"\n",
      "2020-04-10 18:02:57,064 : INFO : topic #2 (0.167): 0.002*\"healthcare\" + 0.002*\"build\" + 0.002*\"place\" + 0.002*\"money\" + 0.002*\"policy\" + 0.002*\"woman\" + 0.002*\"law\" + 0.002*\"troop\" + 0.001*\"education\" + 0.001*\"priority\"\n",
      "2020-04-10 18:02:57,066 : INFO : topic #5 (0.167): 0.002*\"trump\" + 0.002*\"impeachment\" + 0.002*\"judgment\" + 0.002*\"stand\" + 0.002*\"immigrant\" + 0.002*\"income\" + 0.002*\"climate\" + 0.001*\"threat\" + 0.001*\"history\" + 0.001*\"choice\"\n",
      "2020-04-10 18:02:57,070 : INFO : topic #1 (0.167): 0.002*\"pay\" + 0.002*\"value\" + 0.002*\"son\" + 0.002*\"tax\" + 0.002*\"healthcare\" + 0.001*\"guy\" + 0.001*\"college\" + 0.001*\"child\" + 0.001*\"world\" + 0.001*\"hard\"\n",
      "2020-04-10 18:02:57,074 : INFO : topic diff=0.384153, rho=0.577350\n",
      "2020-04-10 18:02:57,102 : INFO : PROGRESS: pass 0, at document #8000/9793\n",
      "2020-04-10 18:02:57,766 : INFO : merging changes from 2000 documents into a model of 9793 documents\n",
      "2020-04-10 18:02:57,782 : INFO : topic #1 (0.167): 0.002*\"pay\" + 0.002*\"lead\" + 0.002*\"weapon\" + 0.002*\"violence\" + 0.002*\"value\" + 0.002*\"tax\" + 0.002*\"gun\" + 0.002*\"bold\" + 0.002*\"child\" + 0.001*\"corporate\"\n",
      "2020-04-10 18:02:57,785 : INFO : topic #4 (0.167): 0.002*\"health\" + 0.002*\"medicare\" + 0.002*\"rule\" + 0.002*\"woman\" + 0.002*\"system\" + 0.002*\"world\" + 0.001*\"shot\" + 0.001*\"justice\" + 0.001*\"table\" + 0.001*\"parent\"\n",
      "2020-04-10 18:02:57,789 : INFO : topic #5 (0.167): 0.002*\"trump\" + 0.002*\"stand\" + 0.002*\"deal\" + 0.002*\"choice\" + 0.002*\"climate\" + 0.001*\"impeachment\" + 0.001*\"immigrant\" + 0.001*\"threat\" + 0.001*\"income\" + 0.001*\"china\"\n",
      "2020-04-10 18:02:57,791 : INFO : topic #2 (0.167): 0.003*\"law\" + 0.002*\"money\" + 0.002*\"public\" + 0.002*\"build\" + 0.002*\"buy\" + 0.002*\"healthcare\" + 0.002*\"education\" + 0.001*\"woman\" + 0.001*\"policy\" + 0.001*\"place\"\n",
      "2020-04-10 18:02:57,795 : INFO : topic #3 (0.167): 0.002*\"war\" + 0.002*\"cost\" + 0.002*\"democracy\" + 0.002*\"ally\" + 0.001*\"bankrupt\" + 0.001*\"lost\" + 0.001*\"love\" + 0.001*\"ohio\" + 0.001*\"served\" + 0.001*\"reality\"\n",
      "2020-04-10 18:02:57,797 : INFO : topic diff=0.405350, rho=0.500000\n",
      "2020-04-10 18:02:58,783 : INFO : -13.939 per-word bound, 15707.9 perplexity estimate based on a held-out corpus of 1793 documents with 4628 words\n",
      "2020-04-10 18:02:58,784 : INFO : PROGRESS: pass 0, at document #9793/9793\n",
      "2020-04-10 18:02:59,427 : INFO : merging changes from 1793 documents into a model of 9793 documents\n",
      "2020-04-10 18:02:59,443 : INFO : topic #4 (0.167): 0.003*\"medicare\" + 0.002*\"system\" + 0.002*\"health\" + 0.002*\"woman\" + 0.002*\"parent\" + 0.002*\"world\" + 0.002*\"prison\" + 0.002*\"insurance\" + 0.002*\"rule\" + 0.001*\"table\"\n",
      "2020-04-10 18:02:59,445 : INFO : topic #3 (0.167): 0.002*\"war\" + 0.002*\"vision\" + 0.002*\"cost\" + 0.002*\"democracy\" + 0.002*\"reality\" + 0.001*\"far\" + 0.001*\"iraq\" + 0.001*\"insurance\" + 0.001*\"michigan\" + 0.001*\"bankrupt\"\n",
      "2020-04-10 18:02:59,449 : INFO : topic #1 (0.167): 0.002*\"pay\" + 0.002*\"healthcare\" + 0.002*\"weapon\" + 0.002*\"deal\" + 0.002*\"lead\" + 0.002*\"gun\" + 0.002*\"tax\" + 0.002*\"child\" + 0.002*\"interest\" + 0.002*\"value\"\n",
      "2020-04-10 18:02:59,452 : INFO : topic #0 (0.167): 0.005*\"trump\" + 0.003*\"family\" + 0.003*\"working\" + 0.003*\"job\" + 0.002*\"beat\" + 0.002*\"border\" + 0.002*\"immigration\" + 0.002*\"company\" + 0.002*\"vote\" + 0.002*\"class\"\n",
      "2020-04-10 18:02:59,456 : INFO : topic #5 (0.167): 0.002*\"immigrant\" + 0.002*\"trump\" + 0.002*\"climate\" + 0.002*\"stand\" + 0.002*\"threat\" + 0.002*\"choice\" + 0.001*\"nation\" + 0.001*\"impeachment\" + 0.001*\"cover\" + 0.001*\"income\"\n",
      "2020-04-10 18:02:59,459 : INFO : topic diff=0.379278, rho=0.447214\n",
      "2020-04-10 18:02:59,481 : INFO : PROGRESS: pass 1, at document #2000/9793\n",
      "2020-04-10 18:02:59,991 : INFO : merging changes from 2000 documents into a model of 9793 documents\n",
      "2020-04-10 18:03:00,004 : INFO : topic #2 (0.167): 0.002*\"education\" + 0.002*\"money\" + 0.002*\"healthcare\" + 0.002*\"public\" + 0.002*\"trillion\" + 0.002*\"buy\" + 0.002*\"wall\" + 0.002*\"policy\" + 0.001*\"law\" + 0.001*\"build\"\n",
      "2020-04-10 18:03:00,009 : INFO : topic #4 (0.167): 0.002*\"medicare\" + 0.002*\"health\" + 0.002*\"system\" + 0.002*\"support\" + 0.002*\"woman\" + 0.002*\"math\" + 0.001*\"obama\" + 0.001*\"rule\" + 0.001*\"black\" + 0.001*\"world\"\n",
      "2020-04-10 18:03:00,013 : INFO : topic #3 (0.167): 0.002*\"war\" + 0.002*\"cost\" + 0.001*\"vision\" + 0.001*\"ally\" + 0.001*\"million\" + 0.001*\"far\" + 0.001*\"democracy\" + 0.001*\"reality\" + 0.001*\"iraq\" + 0.001*\"lost\"\n",
      "2020-04-10 18:03:00,017 : INFO : topic #5 (0.167): 0.002*\"trump\" + 0.001*\"immigrant\" + 0.001*\"stand\" + 0.001*\"climate\" + 0.001*\"record\" + 0.001*\"process\" + 0.001*\"choice\" + 0.001*\"income\" + 0.001*\"defeat\" + 0.001*\"threat\"\n"
     ]
    },
    {
     "name": "stderr",
     "output_type": "stream",
     "text": [
      "2020-04-10 18:03:00,021 : INFO : topic #0 (0.167): 0.004*\"trump\" + 0.003*\"working\" + 0.003*\"beat\" + 0.002*\"family\" + 0.002*\"vote\" + 0.002*\"job\" + 0.002*\"tax\" + 0.002*\"beat trump\" + 0.002*\"immigration\" + 0.002*\"class\"\n",
      "2020-04-10 18:03:00,025 : INFO : topic diff=0.276487, rho=0.380790\n",
      "2020-04-10 18:03:00,056 : INFO : PROGRESS: pass 1, at document #4000/9793\n",
      "2020-04-10 18:03:00,580 : INFO : merging changes from 2000 documents into a model of 9793 documents\n",
      "2020-04-10 18:03:00,598 : INFO : topic #5 (0.167): 0.002*\"trump\" + 0.002*\"climate\" + 0.001*\"income\" + 0.001*\"agreement\" + 0.001*\"choice\" + 0.001*\"sense\" + 0.001*\"fuel\" + 0.001*\"defeat\" + 0.001*\"stand\" + 0.001*\"history\"\n",
      "2020-04-10 18:03:00,600 : INFO : topic #0 (0.167): 0.004*\"trump\" + 0.003*\"beat\" + 0.003*\"working\" + 0.002*\"beat trump\" + 0.002*\"vote\" + 0.002*\"job\" + 0.002*\"family\" + 0.002*\"tax\" + 0.002*\"class\" + 0.002*\"wealth\"\n",
      "2020-04-10 18:03:00,610 : INFO : topic #4 (0.167): 0.002*\"medicare\" + 0.002*\"world\" + 0.002*\"woman\" + 0.002*\"health\" + 0.001*\"joe\" + 0.001*\"support\" + 0.001*\"rule\" + 0.001*\"system\" + 0.001*\"black\" + 0.001*\"obama\"\n",
      "2020-04-10 18:03:00,616 : INFO : topic #2 (0.167): 0.002*\"education\" + 0.002*\"money\" + 0.002*\"troop\" + 0.002*\"place\" + 0.002*\"build\" + 0.002*\"policy\" + 0.002*\"public\" + 0.001*\"healthcare\" + 0.001*\"law\" + 0.001*\"trillion\"\n",
      "2020-04-10 18:03:00,619 : INFO : topic #1 (0.167): 0.003*\"healthcare\" + 0.002*\"pay\" + 0.002*\"deal\" + 0.002*\"tax\" + 0.002*\"lead\" + 0.001*\"interest\" + 0.001*\"end\" + 0.001*\"child\" + 0.001*\"childcare\" + 0.001*\"weapon\"\n",
      "2020-04-10 18:03:00,621 : INFO : topic diff=0.287172, rho=0.380790\n",
      "2020-04-10 18:03:00,651 : INFO : PROGRESS: pass 1, at document #6000/9793\n",
      "2020-04-10 18:03:01,208 : INFO : merging changes from 2000 documents into a model of 9793 documents\n",
      "2020-04-10 18:03:01,221 : INFO : topic #2 (0.167): 0.002*\"build\" + 0.002*\"money\" + 0.002*\"education\" + 0.002*\"place\" + 0.002*\"law\" + 0.002*\"policy\" + 0.001*\"troop\" + 0.001*\"chance\" + 0.001*\"foreign\" + 0.001*\"corruption\"\n",
      "2020-04-10 18:03:01,224 : INFO : topic #5 (0.167): 0.002*\"trump\" + 0.002*\"climate\" + 0.002*\"stand\" + 0.002*\"impeachment\" + 0.002*\"immigrant\" + 0.002*\"income\" + 0.001*\"judgment\" + 0.001*\"threat\" + 0.001*\"history\" + 0.001*\"choice\"\n",
      "2020-04-10 18:03:01,227 : INFO : topic #1 (0.167): 0.003*\"healthcare\" + 0.002*\"pay\" + 0.002*\"tax\" + 0.002*\"deal\" + 0.002*\"value\" + 0.001*\"lead\" + 0.001*\"weapon\" + 0.001*\"interest\" + 0.001*\"guy\" + 0.001*\"universal\"\n",
      "2020-04-10 18:03:01,230 : INFO : topic #4 (0.167): 0.002*\"medicare\" + 0.002*\"world\" + 0.002*\"woman\" + 0.001*\"health\" + 0.001*\"black\" + 0.001*\"support\" + 0.001*\"rule\" + 0.001*\"parent\" + 0.001*\"joe\" + 0.001*\"system\"\n",
      "2020-04-10 18:03:01,233 : INFO : topic #3 (0.167): 0.002*\"war\" + 0.002*\"democracy\" + 0.002*\"cost\" + 0.002*\"ally\" + 0.001*\"million\" + 0.001*\"case\" + 0.001*\"iraq\" + 0.001*\"respect\" + 0.001*\"love\" + 0.001*\"served\"\n",
      "2020-04-10 18:03:01,235 : INFO : topic diff=0.282680, rho=0.380790\n",
      "2020-04-10 18:03:01,261 : INFO : PROGRESS: pass 1, at document #8000/9793\n",
      "2020-04-10 18:03:01,802 : INFO : merging changes from 2000 documents into a model of 9793 documents\n",
      "2020-04-10 18:03:01,821 : INFO : topic #0 (0.167): 0.004*\"trump\" + 0.002*\"job\" + 0.002*\"working\" + 0.002*\"family\" + 0.002*\"vote\" + 0.002*\"beat\" + 0.002*\"tax\" + 0.002*\"class\" + 0.002*\"immigration\" + 0.002*\"company\"\n",
      "2020-04-10 18:03:01,826 : INFO : topic #3 (0.167): 0.002*\"war\" + 0.002*\"cost\" + 0.002*\"democracy\" + 0.001*\"ally\" + 0.001*\"lost\" + 0.001*\"bankrupt\" + 0.001*\"ohio\" + 0.001*\"reality\" + 0.001*\"iraq\" + 0.001*\"love\"\n",
      "2020-04-10 18:03:01,829 : INFO : topic #4 (0.167): 0.002*\"medicare\" + 0.002*\"rule\" + 0.002*\"woman\" + 0.002*\"health\" + 0.002*\"world\" + 0.001*\"system\" + 0.001*\"justice\" + 0.001*\"parent\" + 0.001*\"shot\" + 0.001*\"table\"\n",
      "2020-04-10 18:03:01,835 : INFO : topic #2 (0.167): 0.002*\"law\" + 0.002*\"money\" + 0.002*\"public\" + 0.002*\"education\" + 0.002*\"build\" + 0.002*\"buy\" + 0.001*\"policy\" + 0.001*\"place\" + 0.001*\"troop\" + 0.001*\"trillion\"\n",
      "2020-04-10 18:03:01,841 : INFO : topic #5 (0.167): 0.002*\"trump\" + 0.002*\"climate\" + 0.002*\"stand\" + 0.002*\"choice\" + 0.001*\"immigrant\" + 0.001*\"impeachment\" + 0.001*\"threat\" + 0.001*\"income\" + 0.001*\"nation\" + 0.001*\"term\"\n",
      "2020-04-10 18:03:01,844 : INFO : topic diff=0.288378, rho=0.380790\n",
      "2020-04-10 18:03:02,577 : INFO : -13.249 per-word bound, 9738.6 perplexity estimate based on a held-out corpus of 1793 documents with 4628 words\n",
      "2020-04-10 18:03:02,578 : INFO : PROGRESS: pass 1, at document #9793/9793\n",
      "2020-04-10 18:03:03,045 : INFO : merging changes from 1793 documents into a model of 9793 documents\n",
      "2020-04-10 18:03:03,060 : INFO : topic #2 (0.167): 0.002*\"law\" + 0.002*\"public\" + 0.002*\"buy\" + 0.002*\"education\" + 0.002*\"money\" + 0.001*\"policy\" + 0.001*\"wall\" + 0.001*\"build\" + 0.001*\"courage\" + 0.001*\"place\"\n",
      "2020-04-10 18:03:03,062 : INFO : topic #4 (0.167): 0.003*\"medicare\" + 0.002*\"woman\" + 0.002*\"health\" + 0.002*\"system\" + 0.002*\"world\" + 0.002*\"rule\" + 0.002*\"parent\" + 0.001*\"insurance\" + 0.001*\"table\" + 0.001*\"prison\"\n",
      "2020-04-10 18:03:03,066 : INFO : topic #5 (0.167): 0.002*\"trump\" + 0.002*\"immigrant\" + 0.002*\"climate\" + 0.002*\"stand\" + 0.001*\"choice\" + 0.001*\"nation\" + 0.001*\"threat\" + 0.001*\"impeachment\" + 0.001*\"income\" + 0.001*\"cover\"\n",
      "2020-04-10 18:03:03,068 : INFO : topic #1 (0.167): 0.003*\"healthcare\" + 0.002*\"pay\" + 0.002*\"deal\" + 0.002*\"weapon\" + 0.002*\"gun\" + 0.002*\"tax\" + 0.002*\"lead\" + 0.001*\"interest\" + 0.001*\"child\" + 0.001*\"home\"\n",
      "2020-04-10 18:03:03,074 : INFO : topic #0 (0.167): 0.004*\"trump\" + 0.002*\"family\" + 0.002*\"beat\" + 0.002*\"working\" + 0.002*\"job\" + 0.002*\"immigration\" + 0.002*\"company\" + 0.002*\"border\" + 0.002*\"beat trump\" + 0.002*\"class\"\n",
      "2020-04-10 18:03:03,076 : INFO : topic diff=0.279413, rho=0.380790\n",
      "2020-04-10 18:03:03,097 : INFO : PROGRESS: pass 2, at document #2000/9793\n",
      "2020-04-10 18:03:03,520 : INFO : merging changes from 2000 documents into a model of 9793 documents\n",
      "2020-04-10 18:03:03,536 : INFO : topic #1 (0.167): 0.003*\"healthcare\" + 0.002*\"pay\" + 0.002*\"tax\" + 0.002*\"deal\" + 0.002*\"lead\" + 0.002*\"gun\" + 0.002*\"weapon\" + 0.002*\"billion\" + 0.001*\"value\" + 0.001*\"interest\"\n",
      "2020-04-10 18:03:03,538 : INFO : topic #3 (0.167): 0.002*\"war\" + 0.002*\"cost\" + 0.001*\"vision\" + 0.001*\"ally\" + 0.001*\"million\" + 0.001*\"democracy\" + 0.001*\"far\" + 0.001*\"reality\" + 0.001*\"iraq\" + 0.001*\"lost\"\n",
      "2020-04-10 18:03:03,542 : INFO : topic #2 (0.167): 0.002*\"education\" + 0.002*\"money\" + 0.002*\"trillion\" + 0.002*\"public\" + 0.002*\"wall\" + 0.001*\"policy\" + 0.001*\"buy\" + 0.001*\"build\" + 0.001*\"law\" + 0.001*\"place\"\n",
      "2020-04-10 18:03:03,544 : INFO : topic #4 (0.167): 0.002*\"medicare\" + 0.002*\"health\" + 0.002*\"woman\" + 0.002*\"support\" + 0.001*\"math\" + 0.001*\"rule\" + 0.001*\"obama\" + 0.001*\"system\" + 0.001*\"world\" + 0.001*\"black\"\n",
      "2020-04-10 18:03:03,547 : INFO : topic #5 (0.167): 0.002*\"trump\" + 0.001*\"climate\" + 0.001*\"immigrant\" + 0.001*\"stand\" + 0.001*\"process\" + 0.001*\"choice\" + 0.001*\"income\" + 0.001*\"record\" + 0.001*\"defeat\" + 0.001*\"threat\"\n",
      "2020-04-10 18:03:03,549 : INFO : topic diff=0.227871, rho=0.355863\n",
      "2020-04-10 18:03:03,587 : INFO : PROGRESS: pass 2, at document #4000/9793\n",
      "2020-04-10 18:03:04,082 : INFO : merging changes from 2000 documents into a model of 9793 documents\n",
      "2020-04-10 18:03:04,097 : INFO : topic #4 (0.167): 0.002*\"medicare\" + 0.002*\"world\" + 0.002*\"woman\" + 0.001*\"health\" + 0.001*\"rule\" + 0.001*\"support\" + 0.001*\"joe\" + 0.001*\"black\" + 0.001*\"obama\" + 0.001*\"system\"\n",
      "2020-04-10 18:03:04,099 : INFO : topic #1 (0.167): 0.004*\"healthcare\" + 0.002*\"deal\" + 0.002*\"pay\" + 0.002*\"tax\" + 0.002*\"lead\" + 0.001*\"weapon\" + 0.001*\"interest\" + 0.001*\"end\" + 0.001*\"major\" + 0.001*\"child\"\n",
      "2020-04-10 18:03:04,102 : INFO : topic #3 (0.167): 0.003*\"war\" + 0.002*\"cost\" + 0.002*\"ally\" + 0.002*\"iraq\" + 0.001*\"million\" + 0.001*\"democracy\" + 0.001*\"love\" + 0.001*\"vision\" + 0.001*\"case\" + 0.001*\"lost\"\n",
      "2020-04-10 18:03:04,107 : INFO : topic #5 (0.167): 0.002*\"trump\" + 0.002*\"climate\" + 0.001*\"income\" + 0.001*\"agreement\" + 0.001*\"choice\" + 0.001*\"defeat\" + 0.001*\"history\" + 0.001*\"fuel\" + 0.001*\"sense\" + 0.001*\"stand\"\n",
      "2020-04-10 18:03:04,110 : INFO : topic #0 (0.167): 0.004*\"trump\" + 0.003*\"beat\" + 0.003*\"working\" + 0.002*\"beat trump\" + 0.002*\"tax\" + 0.002*\"vote\" + 0.002*\"family\" + 0.002*\"job\" + 0.002*\"class\" + 0.002*\"wealth\"\n"
     ]
    },
    {
     "name": "stderr",
     "output_type": "stream",
     "text": [
      "2020-04-10 18:03:04,113 : INFO : topic diff=0.241762, rho=0.355863\n",
      "2020-04-10 18:03:04,138 : INFO : PROGRESS: pass 2, at document #6000/9793\n",
      "2020-04-10 18:03:04,548 : INFO : merging changes from 2000 documents into a model of 9793 documents\n",
      "2020-04-10 18:03:04,564 : INFO : topic #4 (0.167): 0.002*\"medicare\" + 0.002*\"world\" + 0.002*\"woman\" + 0.001*\"rule\" + 0.001*\"health\" + 0.001*\"support\" + 0.001*\"black\" + 0.001*\"parent\" + 0.001*\"joe\" + 0.001*\"asking\"\n",
      "2020-04-10 18:03:04,566 : INFO : topic #3 (0.167): 0.002*\"war\" + 0.002*\"democracy\" + 0.002*\"cost\" + 0.002*\"ally\" + 0.001*\"iraq\" + 0.001*\"million\" + 0.001*\"case\" + 0.001*\"respect\" + 0.001*\"love\" + 0.001*\"military\"\n",
      "2020-04-10 18:03:04,568 : INFO : topic #5 (0.167): 0.002*\"trump\" + 0.002*\"climate\" + 0.002*\"stand\" + 0.002*\"income\" + 0.002*\"impeachment\" + 0.002*\"immigrant\" + 0.001*\"judgment\" + 0.001*\"history\" + 0.001*\"choice\" + 0.001*\"threat\"\n",
      "2020-04-10 18:03:04,575 : INFO : topic #1 (0.167): 0.003*\"healthcare\" + 0.002*\"pay\" + 0.002*\"deal\" + 0.002*\"tax\" + 0.002*\"value\" + 0.001*\"weapon\" + 0.001*\"interest\" + 0.001*\"universal\" + 0.001*\"guy\" + 0.001*\"lead\"\n",
      "2020-04-10 18:03:04,579 : INFO : topic #0 (0.167): 0.004*\"trump\" + 0.003*\"beat\" + 0.002*\"working\" + 0.002*\"tax\" + 0.002*\"family\" + 0.002*\"vote\" + 0.002*\"class\" + 0.002*\"beat trump\" + 0.002*\"washington\" + 0.002*\"wealth\"\n",
      "2020-04-10 18:03:04,587 : INFO : topic diff=0.238035, rho=0.355863\n",
      "2020-04-10 18:03:04,625 : INFO : PROGRESS: pass 2, at document #8000/9793\n",
      "2020-04-10 18:03:05,041 : INFO : merging changes from 2000 documents into a model of 9793 documents\n",
      "2020-04-10 18:03:05,055 : INFO : topic #0 (0.167): 0.004*\"trump\" + 0.002*\"job\" + 0.002*\"working\" + 0.002*\"family\" + 0.002*\"tax\" + 0.002*\"beat\" + 0.002*\"vote\" + 0.002*\"company\" + 0.002*\"class\" + 0.002*\"immigration\"\n",
      "2020-04-10 18:03:05,058 : INFO : topic #3 (0.167): 0.002*\"war\" + 0.002*\"cost\" + 0.002*\"democracy\" + 0.001*\"ally\" + 0.001*\"lost\" + 0.001*\"bankrupt\" + 0.001*\"iraq\" + 0.001*\"reality\" + 0.001*\"ohio\" + 0.001*\"vision\"\n",
      "2020-04-10 18:03:05,063 : INFO : topic #2 (0.167): 0.002*\"law\" + 0.002*\"money\" + 0.002*\"public\" + 0.002*\"education\" + 0.002*\"build\" + 0.002*\"buy\" + 0.001*\"policy\" + 0.001*\"place\" + 0.001*\"troop\" + 0.001*\"trillion\"\n",
      "2020-04-10 18:03:05,065 : INFO : topic #4 (0.167): 0.002*\"medicare\" + 0.002*\"rule\" + 0.002*\"woman\" + 0.002*\"health\" + 0.002*\"world\" + 0.001*\"system\" + 0.001*\"justice\" + 0.001*\"parent\" + 0.001*\"table\" + 0.001*\"shot\"\n",
      "2020-04-10 18:03:05,068 : INFO : topic #5 (0.167): 0.002*\"trump\" + 0.002*\"climate\" + 0.002*\"stand\" + 0.001*\"choice\" + 0.001*\"immigrant\" + 0.001*\"impeachment\" + 0.001*\"income\" + 0.001*\"threat\" + 0.001*\"nation\" + 0.001*\"term\"\n",
      "2020-04-10 18:03:05,069 : INFO : topic diff=0.241973, rho=0.355863\n",
      "2020-04-10 18:03:05,993 : INFO : -12.934 per-word bound, 7827.4 perplexity estimate based on a held-out corpus of 1793 documents with 4628 words\n",
      "2020-04-10 18:03:05,995 : INFO : PROGRESS: pass 2, at document #9793/9793\n",
      "2020-04-10 18:03:06,375 : INFO : merging changes from 1793 documents into a model of 9793 documents\n",
      "2020-04-10 18:03:06,387 : INFO : topic #0 (0.167): 0.004*\"trump\" + 0.002*\"beat\" + 0.002*\"family\" + 0.002*\"working\" + 0.002*\"job\" + 0.002*\"immigration\" + 0.002*\"company\" + 0.002*\"border\" + 0.002*\"tax\" + 0.002*\"beat trump\"\n",
      "2020-04-10 18:03:06,388 : INFO : topic #1 (0.167): 0.003*\"healthcare\" + 0.002*\"pay\" + 0.002*\"deal\" + 0.002*\"weapon\" + 0.002*\"gun\" + 0.002*\"lead\" + 0.002*\"tax\" + 0.001*\"child\" + 0.001*\"interest\" + 0.001*\"home\"\n",
      "2020-04-10 18:03:06,391 : INFO : topic #2 (0.167): 0.002*\"law\" + 0.002*\"public\" + 0.002*\"buy\" + 0.002*\"education\" + 0.002*\"money\" + 0.001*\"wall\" + 0.001*\"policy\" + 0.001*\"build\" + 0.001*\"courage\" + 0.001*\"place\"\n",
      "2020-04-10 18:03:06,394 : INFO : topic #3 (0.167): 0.002*\"war\" + 0.002*\"vision\" + 0.002*\"democracy\" + 0.002*\"cost\" + 0.002*\"reality\" + 0.001*\"iraq\" + 0.001*\"far\" + 0.001*\"million\" + 0.001*\"bankrupt\" + 0.001*\"lost\"\n",
      "2020-04-10 18:03:06,397 : INFO : topic #5 (0.167): 0.002*\"trump\" + 0.002*\"immigrant\" + 0.002*\"climate\" + 0.001*\"stand\" + 0.001*\"choice\" + 0.001*\"nation\" + 0.001*\"threat\" + 0.001*\"impeachment\" + 0.001*\"income\" + 0.001*\"cover\"\n",
      "2020-04-10 18:03:06,401 : INFO : topic diff=0.228944, rho=0.355863\n",
      "2020-04-10 18:03:06,422 : INFO : PROGRESS: pass 3, at document #2000/9793\n",
      "2020-04-10 18:03:06,964 : INFO : merging changes from 2000 documents into a model of 9793 documents\n",
      "2020-04-10 18:03:06,979 : INFO : topic #1 (0.167): 0.003*\"healthcare\" + 0.002*\"pay\" + 0.002*\"deal\" + 0.002*\"lead\" + 0.002*\"gun\" + 0.002*\"weapon\" + 0.002*\"tax\" + 0.001*\"billion\" + 0.001*\"interest\" + 0.001*\"universal\"\n",
      "2020-04-10 18:03:06,981 : INFO : topic #5 (0.167): 0.002*\"trump\" + 0.001*\"climate\" + 0.001*\"immigrant\" + 0.001*\"stand\" + 0.001*\"process\" + 0.001*\"choice\" + 0.001*\"income\" + 0.001*\"defeat\" + 0.001*\"record\" + 0.001*\"history\"\n",
      "2020-04-10 18:03:06,985 : INFO : topic #2 (0.167): 0.002*\"education\" + 0.002*\"money\" + 0.002*\"trillion\" + 0.002*\"public\" + 0.002*\"wall\" + 0.001*\"buy\" + 0.001*\"policy\" + 0.001*\"law\" + 0.001*\"build\" + 0.001*\"place\"\n",
      "2020-04-10 18:03:06,988 : INFO : topic #4 (0.167): 0.002*\"medicare\" + 0.002*\"health\" + 0.002*\"woman\" + 0.001*\"support\" + 0.001*\"math\" + 0.001*\"rule\" + 0.001*\"world\" + 0.001*\"obama\" + 0.001*\"black\" + 0.001*\"system\"\n",
      "2020-04-10 18:03:06,994 : INFO : topic #0 (0.167): 0.004*\"trump\" + 0.003*\"beat\" + 0.003*\"working\" + 0.002*\"tax\" + 0.002*\"family\" + 0.002*\"vote\" + 0.002*\"beat trump\" + 0.002*\"immigration\" + 0.002*\"job\" + 0.002*\"class\"\n",
      "2020-04-10 18:03:06,996 : INFO : topic diff=0.198978, rho=0.335267\n",
      "2020-04-10 18:03:07,026 : INFO : PROGRESS: pass 3, at document #4000/9793\n",
      "2020-04-10 18:03:07,470 : INFO : merging changes from 2000 documents into a model of 9793 documents\n",
      "2020-04-10 18:03:07,486 : INFO : topic #3 (0.167): 0.003*\"war\" + 0.002*\"cost\" + 0.002*\"ally\" + 0.002*\"iraq\" + 0.001*\"democracy\" + 0.001*\"million\" + 0.001*\"vision\" + 0.001*\"love\" + 0.001*\"case\" + 0.001*\"lost\"\n",
      "2020-04-10 18:03:07,489 : INFO : topic #0 (0.167): 0.004*\"trump\" + 0.003*\"beat\" + 0.003*\"working\" + 0.002*\"tax\" + 0.002*\"beat trump\" + 0.002*\"vote\" + 0.002*\"family\" + 0.002*\"job\" + 0.002*\"class\" + 0.002*\"wealth\"\n",
      "2020-04-10 18:03:07,492 : INFO : topic #4 (0.167): 0.002*\"medicare\" + 0.002*\"woman\" + 0.002*\"world\" + 0.001*\"health\" + 0.001*\"rule\" + 0.001*\"support\" + 0.001*\"joe\" + 0.001*\"black\" + 0.001*\"obama\" + 0.001*\"disagree\"\n",
      "2020-04-10 18:03:07,495 : INFO : topic #1 (0.167): 0.004*\"healthcare\" + 0.002*\"deal\" + 0.002*\"pay\" + 0.002*\"lead\" + 0.002*\"tax\" + 0.001*\"weapon\" + 0.001*\"major\" + 0.001*\"interest\" + 0.001*\"gun\" + 0.001*\"universal\"\n",
      "2020-04-10 18:03:07,498 : INFO : topic #2 (0.167): 0.002*\"education\" + 0.002*\"money\" + 0.002*\"troop\" + 0.002*\"place\" + 0.002*\"build\" + 0.002*\"public\" + 0.001*\"policy\" + 0.001*\"trillion\" + 0.001*\"law\" + 0.001*\"control\"\n",
      "2020-04-10 18:03:07,501 : INFO : topic diff=0.211147, rho=0.335267\n",
      "2020-04-10 18:03:07,522 : INFO : PROGRESS: pass 3, at document #6000/9793\n",
      "2020-04-10 18:03:08,072 : INFO : merging changes from 2000 documents into a model of 9793 documents\n",
      "2020-04-10 18:03:08,086 : INFO : topic #0 (0.167): 0.004*\"trump\" + 0.003*\"beat\" + 0.002*\"tax\" + 0.002*\"working\" + 0.002*\"family\" + 0.002*\"vote\" + 0.002*\"class\" + 0.002*\"beat trump\" + 0.002*\"wealth\" + 0.002*\"washington\"\n",
      "2020-04-10 18:03:08,089 : INFO : topic #2 (0.167): 0.002*\"education\" + 0.002*\"money\" + 0.002*\"build\" + 0.002*\"law\" + 0.002*\"place\" + 0.001*\"policy\" + 0.001*\"troop\" + 0.001*\"chance\" + 0.001*\"public\" + 0.001*\"wall\"\n",
      "2020-04-10 18:03:08,092 : INFO : topic #3 (0.167): 0.002*\"war\" + 0.002*\"democracy\" + 0.002*\"cost\" + 0.002*\"ally\" + 0.001*\"iraq\" + 0.001*\"million\" + 0.001*\"case\" + 0.001*\"love\" + 0.001*\"respect\" + 0.001*\"military\"\n",
      "2020-04-10 18:03:08,095 : INFO : topic #4 (0.167): 0.002*\"medicare\" + 0.002*\"world\" + 0.002*\"woman\" + 0.001*\"rule\" + 0.001*\"health\" + 0.001*\"support\" + 0.001*\"black\" + 0.001*\"parent\" + 0.001*\"joe\" + 0.001*\"asking\"\n",
      "2020-04-10 18:03:08,098 : INFO : topic #5 (0.167): 0.002*\"trump\" + 0.002*\"climate\" + 0.002*\"stand\" + 0.002*\"income\" + 0.001*\"immigrant\" + 0.001*\"impeachment\" + 0.001*\"history\" + 0.001*\"judgment\" + 0.001*\"choice\" + 0.001*\"threat\"\n",
      "2020-04-10 18:03:08,101 : INFO : topic diff=0.208400, rho=0.335267\n",
      "2020-04-10 18:03:08,127 : INFO : PROGRESS: pass 3, at document #8000/9793\n"
     ]
    },
    {
     "name": "stderr",
     "output_type": "stream",
     "text": [
      "2020-04-10 18:03:08,679 : INFO : merging changes from 2000 documents into a model of 9793 documents\n",
      "2020-04-10 18:03:08,690 : INFO : topic #1 (0.167): 0.003*\"healthcare\" + 0.002*\"pay\" + 0.002*\"deal\" + 0.002*\"weapon\" + 0.002*\"lead\" + 0.002*\"gun\" + 0.002*\"violence\" + 0.001*\"tax\" + 0.001*\"value\" + 0.001*\"child\"\n",
      "2020-04-10 18:03:08,694 : INFO : topic #0 (0.167): 0.004*\"trump\" + 0.002*\"job\" + 0.002*\"tax\" + 0.002*\"working\" + 0.002*\"beat\" + 0.002*\"family\" + 0.002*\"vote\" + 0.002*\"company\" + 0.002*\"class\" + 0.002*\"immigration\"\n",
      "2020-04-10 18:03:08,696 : INFO : topic #2 (0.167): 0.002*\"law\" + 0.002*\"money\" + 0.002*\"public\" + 0.002*\"education\" + 0.002*\"buy\" + 0.002*\"build\" + 0.001*\"place\" + 0.001*\"policy\" + 0.001*\"troop\" + 0.001*\"trillion\"\n",
      "2020-04-10 18:03:08,701 : INFO : topic #5 (0.167): 0.002*\"trump\" + 0.002*\"climate\" + 0.002*\"stand\" + 0.001*\"choice\" + 0.001*\"immigrant\" + 0.001*\"income\" + 0.001*\"impeachment\" + 0.001*\"threat\" + 0.001*\"nation\" + 0.001*\"history\"\n",
      "2020-04-10 18:03:08,706 : INFO : topic #4 (0.167): 0.002*\"medicare\" + 0.002*\"rule\" + 0.002*\"woman\" + 0.002*\"health\" + 0.002*\"world\" + 0.001*\"justice\" + 0.001*\"system\" + 0.001*\"parent\" + 0.001*\"black\" + 0.001*\"support\"\n",
      "2020-04-10 18:03:08,710 : INFO : topic diff=0.211509, rho=0.335267\n",
      "2020-04-10 18:03:09,298 : INFO : -12.776 per-word bound, 7015.2 perplexity estimate based on a held-out corpus of 1793 documents with 4628 words\n",
      "2020-04-10 18:03:09,299 : INFO : PROGRESS: pass 3, at document #9793/9793\n",
      "2020-04-10 18:03:09,683 : INFO : merging changes from 1793 documents into a model of 9793 documents\n",
      "2020-04-10 18:03:09,696 : INFO : topic #5 (0.167): 0.002*\"trump\" + 0.002*\"immigrant\" + 0.002*\"climate\" + 0.001*\"stand\" + 0.001*\"nation\" + 0.001*\"choice\" + 0.001*\"threat\" + 0.001*\"income\" + 0.001*\"impeachment\" + 0.001*\"cover\"\n",
      "2020-04-10 18:03:09,698 : INFO : topic #2 (0.167): 0.002*\"law\" + 0.002*\"public\" + 0.002*\"buy\" + 0.002*\"education\" + 0.002*\"money\" + 0.001*\"wall\" + 0.001*\"policy\" + 0.001*\"build\" + 0.001*\"courage\" + 0.001*\"place\"\n",
      "2020-04-10 18:03:09,703 : INFO : topic #4 (0.167): 0.002*\"medicare\" + 0.002*\"woman\" + 0.002*\"health\" + 0.002*\"world\" + 0.002*\"rule\" + 0.001*\"parent\" + 0.001*\"system\" + 0.001*\"insurance\" + 0.001*\"table\" + 0.001*\"elected\"\n",
      "2020-04-10 18:03:09,706 : INFO : topic #1 (0.167): 0.003*\"healthcare\" + 0.002*\"pay\" + 0.002*\"deal\" + 0.002*\"weapon\" + 0.002*\"gun\" + 0.002*\"lead\" + 0.001*\"tax\" + 0.001*\"child\" + 0.001*\"interest\" + 0.001*\"home\"\n",
      "2020-04-10 18:03:09,710 : INFO : topic #0 (0.167): 0.004*\"trump\" + 0.002*\"beat\" + 0.002*\"family\" + 0.002*\"working\" + 0.002*\"job\" + 0.002*\"immigration\" + 0.002*\"company\" + 0.002*\"tax\" + 0.002*\"border\" + 0.002*\"class\"\n",
      "2020-04-10 18:03:09,711 : INFO : topic diff=0.198970, rho=0.335267\n",
      "2020-04-10 18:03:09,735 : INFO : PROGRESS: pass 4, at document #2000/9793\n",
      "2020-04-10 18:03:10,139 : INFO : merging changes from 2000 documents into a model of 9793 documents\n",
      "2020-04-10 18:03:10,152 : INFO : topic #1 (0.167): 0.003*\"healthcare\" + 0.002*\"pay\" + 0.002*\"deal\" + 0.002*\"weapon\" + 0.002*\"lead\" + 0.002*\"gun\" + 0.002*\"tax\" + 0.001*\"billion\" + 0.001*\"interest\" + 0.001*\"universal\"\n",
      "2020-04-10 18:03:10,154 : INFO : topic #3 (0.167): 0.002*\"war\" + 0.002*\"cost\" + 0.001*\"vision\" + 0.001*\"ally\" + 0.001*\"million\" + 0.001*\"democracy\" + 0.001*\"far\" + 0.001*\"reality\" + 0.001*\"iraq\" + 0.001*\"lost\"\n",
      "2020-04-10 18:03:10,156 : INFO : topic #2 (0.167): 0.002*\"education\" + 0.002*\"money\" + 0.002*\"trillion\" + 0.002*\"public\" + 0.002*\"wall\" + 0.001*\"law\" + 0.001*\"buy\" + 0.001*\"policy\" + 0.001*\"build\" + 0.001*\"chance\"\n",
      "2020-04-10 18:03:10,160 : INFO : topic #5 (0.167): 0.002*\"trump\" + 0.001*\"climate\" + 0.001*\"immigrant\" + 0.001*\"stand\" + 0.001*\"choice\" + 0.001*\"income\" + 0.001*\"process\" + 0.001*\"defeat\" + 0.001*\"record\" + 0.001*\"history\"\n",
      "2020-04-10 18:03:10,162 : INFO : topic #4 (0.167): 0.002*\"medicare\" + 0.002*\"health\" + 0.002*\"woman\" + 0.002*\"support\" + 0.001*\"rule\" + 0.001*\"math\" + 0.001*\"world\" + 0.001*\"obama\" + 0.001*\"black\" + 0.001*\"system\"\n",
      "2020-04-10 18:03:10,164 : INFO : topic diff=0.180510, rho=0.317877\n",
      "2020-04-10 18:03:10,187 : INFO : PROGRESS: pass 4, at document #4000/9793\n",
      "2020-04-10 18:03:10,567 : INFO : merging changes from 2000 documents into a model of 9793 documents\n",
      "2020-04-10 18:03:10,580 : INFO : topic #1 (0.167): 0.004*\"healthcare\" + 0.002*\"deal\" + 0.002*\"pay\" + 0.002*\"lead\" + 0.002*\"tax\" + 0.001*\"weapon\" + 0.001*\"major\" + 0.001*\"interest\" + 0.001*\"gun\" + 0.001*\"universal\"\n",
      "2020-04-10 18:03:10,583 : INFO : topic #5 (0.167): 0.002*\"trump\" + 0.002*\"climate\" + 0.001*\"income\" + 0.001*\"choice\" + 0.001*\"agreement\" + 0.001*\"history\" + 0.001*\"defeat\" + 0.001*\"fuel\" + 0.001*\"stand\" + 0.001*\"sense\"\n",
      "2020-04-10 18:03:10,587 : INFO : topic #4 (0.167): 0.002*\"medicare\" + 0.002*\"woman\" + 0.002*\"world\" + 0.001*\"health\" + 0.001*\"rule\" + 0.001*\"support\" + 0.001*\"black\" + 0.001*\"joe\" + 0.001*\"obama\" + 0.001*\"disagree\"\n",
      "2020-04-10 18:03:10,592 : INFO : topic #3 (0.167): 0.003*\"war\" + 0.002*\"cost\" + 0.002*\"ally\" + 0.002*\"iraq\" + 0.001*\"democracy\" + 0.001*\"million\" + 0.001*\"vision\" + 0.001*\"love\" + 0.001*\"military\" + 0.001*\"lost\"\n",
      "2020-04-10 18:03:10,594 : INFO : topic #2 (0.167): 0.002*\"education\" + 0.002*\"money\" + 0.002*\"troop\" + 0.002*\"place\" + 0.002*\"build\" + 0.002*\"public\" + 0.001*\"policy\" + 0.001*\"trillion\" + 0.001*\"law\" + 0.001*\"wall\"\n",
      "2020-04-10 18:03:10,597 : INFO : topic diff=0.191068, rho=0.317877\n",
      "2020-04-10 18:03:10,619 : INFO : PROGRESS: pass 4, at document #6000/9793\n",
      "2020-04-10 18:03:10,972 : INFO : merging changes from 2000 documents into a model of 9793 documents\n",
      "2020-04-10 18:03:10,985 : INFO : topic #0 (0.167): 0.004*\"trump\" + 0.003*\"beat\" + 0.002*\"tax\" + 0.002*\"working\" + 0.002*\"family\" + 0.002*\"vote\" + 0.002*\"class\" + 0.002*\"beat trump\" + 0.002*\"wealth\" + 0.002*\"washington\"\n",
      "2020-04-10 18:03:10,987 : INFO : topic #2 (0.167): 0.002*\"education\" + 0.002*\"money\" + 0.002*\"build\" + 0.002*\"law\" + 0.001*\"place\" + 0.001*\"policy\" + 0.001*\"troop\" + 0.001*\"public\" + 0.001*\"chance\" + 0.001*\"wall\"\n",
      "2020-04-10 18:03:10,989 : INFO : topic #3 (0.167): 0.002*\"war\" + 0.002*\"democracy\" + 0.002*\"cost\" + 0.002*\"ally\" + 0.001*\"iraq\" + 0.001*\"million\" + 0.001*\"military\" + 0.001*\"case\" + 0.001*\"love\" + 0.001*\"respect\"\n",
      "2020-04-10 18:03:10,992 : INFO : topic #1 (0.167): 0.003*\"healthcare\" + 0.002*\"pay\" + 0.002*\"deal\" + 0.001*\"weapon\" + 0.001*\"value\" + 0.001*\"tax\" + 0.001*\"universal\" + 0.001*\"interest\" + 0.001*\"gun\" + 0.001*\"lead\"\n",
      "2020-04-10 18:03:10,995 : INFO : topic #5 (0.167): 0.002*\"trump\" + 0.002*\"climate\" + 0.001*\"income\" + 0.001*\"stand\" + 0.001*\"immigrant\" + 0.001*\"impeachment\" + 0.001*\"history\" + 0.001*\"choice\" + 0.001*\"judgment\" + 0.001*\"threat\"\n",
      "2020-04-10 18:03:10,997 : INFO : topic diff=0.188451, rho=0.317877\n",
      "2020-04-10 18:03:11,015 : INFO : PROGRESS: pass 4, at document #8000/9793\n",
      "2020-04-10 18:03:11,368 : INFO : merging changes from 2000 documents into a model of 9793 documents\n",
      "2020-04-10 18:03:11,380 : INFO : topic #5 (0.167): 0.002*\"trump\" + 0.002*\"climate\" + 0.001*\"stand\" + 0.001*\"choice\" + 0.001*\"immigrant\" + 0.001*\"income\" + 0.001*\"impeachment\" + 0.001*\"threat\" + 0.001*\"nation\" + 0.001*\"history\"\n",
      "2020-04-10 18:03:11,383 : INFO : topic #4 (0.167): 0.002*\"medicare\" + 0.002*\"woman\" + 0.002*\"rule\" + 0.002*\"health\" + 0.002*\"world\" + 0.001*\"justice\" + 0.001*\"parent\" + 0.001*\"system\" + 0.001*\"black\" + 0.001*\"support\"\n",
      "2020-04-10 18:03:11,386 : INFO : topic #1 (0.167): 0.003*\"healthcare\" + 0.002*\"pay\" + 0.002*\"deal\" + 0.002*\"weapon\" + 0.002*\"lead\" + 0.002*\"gun\" + 0.002*\"violence\" + 0.001*\"tax\" + 0.001*\"value\" + 0.001*\"child\"\n",
      "2020-04-10 18:03:11,388 : INFO : topic #0 (0.167): 0.004*\"trump\" + 0.002*\"job\" + 0.002*\"tax\" + 0.002*\"working\" + 0.002*\"beat\" + 0.002*\"family\" + 0.002*\"vote\" + 0.002*\"class\" + 0.002*\"company\" + 0.002*\"immigration\"\n",
      "2020-04-10 18:03:11,393 : INFO : topic #2 (0.167): 0.002*\"law\" + 0.002*\"money\" + 0.002*\"public\" + 0.002*\"education\" + 0.002*\"buy\" + 0.002*\"build\" + 0.001*\"trillion\" + 0.001*\"troop\" + 0.001*\"policy\" + 0.001*\"place\"\n",
      "2020-04-10 18:03:11,395 : INFO : topic diff=0.191561, rho=0.317877\n",
      "2020-04-10 18:03:11,916 : INFO : -12.685 per-word bound, 6583.6 perplexity estimate based on a held-out corpus of 1793 documents with 4628 words\n",
      "2020-04-10 18:03:11,917 : INFO : PROGRESS: pass 4, at document #9793/9793\n"
     ]
    },
    {
     "name": "stderr",
     "output_type": "stream",
     "text": [
      "2020-04-10 18:03:12,221 : INFO : merging changes from 1793 documents into a model of 9793 documents\n",
      "2020-04-10 18:03:12,234 : INFO : topic #2 (0.167): 0.002*\"law\" + 0.002*\"public\" + 0.002*\"buy\" + 0.002*\"education\" + 0.002*\"money\" + 0.001*\"wall\" + 0.001*\"build\" + 0.001*\"policy\" + 0.001*\"courage\" + 0.001*\"trillion\"\n",
      "2020-04-10 18:03:12,236 : INFO : topic #0 (0.167): 0.004*\"trump\" + 0.002*\"beat\" + 0.002*\"family\" + 0.002*\"working\" + 0.002*\"job\" + 0.002*\"immigration\" + 0.002*\"company\" + 0.002*\"tax\" + 0.002*\"border\" + 0.002*\"class\"\n",
      "2020-04-10 18:03:12,239 : INFO : topic #1 (0.167): 0.003*\"healthcare\" + 0.002*\"pay\" + 0.002*\"deal\" + 0.002*\"weapon\" + 0.002*\"gun\" + 0.002*\"lead\" + 0.001*\"tax\" + 0.001*\"child\" + 0.001*\"interest\" + 0.001*\"violence\"\n",
      "2020-04-10 18:03:12,244 : INFO : topic #3 (0.167): 0.002*\"war\" + 0.002*\"vision\" + 0.002*\"democracy\" + 0.002*\"cost\" + 0.001*\"reality\" + 0.001*\"iraq\" + 0.001*\"million\" + 0.001*\"far\" + 0.001*\"military\" + 0.001*\"lost\"\n",
      "2020-04-10 18:03:12,247 : INFO : topic #5 (0.167): 0.002*\"trump\" + 0.002*\"immigrant\" + 0.002*\"climate\" + 0.001*\"stand\" + 0.001*\"nation\" + 0.001*\"choice\" + 0.001*\"threat\" + 0.001*\"income\" + 0.001*\"impeachment\" + 0.001*\"cover\"\n",
      "2020-04-10 18:03:12,249 : INFO : topic diff=0.180197, rho=0.317877\n"
     ]
    }
   ],
   "source": [
    "lda = models.LdaModel(corpus=corpus, num_topics=6, id2word=id2word, passes=5, random_state = 200 )"
   ]
  },
  {
   "cell_type": "code",
   "execution_count": 107,
   "metadata": {
    "scrolled": false
   },
   "outputs": [
    {
     "name": "stderr",
     "output_type": "stream",
     "text": [
      "2020-04-10 18:03:12,273 : INFO : topic #0 (0.167): 0.004*\"trump\" + 0.002*\"beat\" + 0.002*\"family\" + 0.002*\"working\" + 0.002*\"job\" + 0.002*\"immigration\" + 0.002*\"company\" + 0.002*\"tax\" + 0.002*\"border\" + 0.002*\"class\"\n",
      "2020-04-10 18:03:12,276 : INFO : topic #1 (0.167): 0.003*\"healthcare\" + 0.002*\"pay\" + 0.002*\"deal\" + 0.002*\"weapon\" + 0.002*\"gun\" + 0.002*\"lead\" + 0.001*\"tax\" + 0.001*\"child\" + 0.001*\"interest\" + 0.001*\"violence\"\n",
      "2020-04-10 18:03:12,279 : INFO : topic #2 (0.167): 0.002*\"law\" + 0.002*\"public\" + 0.002*\"buy\" + 0.002*\"education\" + 0.002*\"money\" + 0.001*\"wall\" + 0.001*\"build\" + 0.001*\"policy\" + 0.001*\"courage\" + 0.001*\"trillion\"\n",
      "2020-04-10 18:03:12,283 : INFO : topic #3 (0.167): 0.002*\"war\" + 0.002*\"vision\" + 0.002*\"democracy\" + 0.002*\"cost\" + 0.001*\"reality\" + 0.001*\"iraq\" + 0.001*\"million\" + 0.001*\"far\" + 0.001*\"military\" + 0.001*\"lost\"\n",
      "2020-04-10 18:03:12,286 : INFO : topic #4 (0.167): 0.002*\"medicare\" + 0.002*\"woman\" + 0.002*\"health\" + 0.002*\"world\" + 0.002*\"rule\" + 0.001*\"parent\" + 0.001*\"system\" + 0.001*\"table\" + 0.001*\"insurance\" + 0.001*\"elected\"\n",
      "2020-04-10 18:03:12,288 : INFO : topic #5 (0.167): 0.002*\"trump\" + 0.002*\"immigrant\" + 0.002*\"climate\" + 0.001*\"stand\" + 0.001*\"nation\" + 0.001*\"choice\" + 0.001*\"threat\" + 0.001*\"income\" + 0.001*\"impeachment\" + 0.001*\"cover\"\n"
     ]
    },
    {
     "data": {
      "text/plain": [
       "[(0,\n",
       "  '0.004*\"trump\" + 0.002*\"beat\" + 0.002*\"family\" + 0.002*\"working\" + 0.002*\"job\" + 0.002*\"immigration\" + 0.002*\"company\" + 0.002*\"tax\" + 0.002*\"border\" + 0.002*\"class\"'),\n",
       " (1,\n",
       "  '0.003*\"healthcare\" + 0.002*\"pay\" + 0.002*\"deal\" + 0.002*\"weapon\" + 0.002*\"gun\" + 0.002*\"lead\" + 0.001*\"tax\" + 0.001*\"child\" + 0.001*\"interest\" + 0.001*\"violence\"'),\n",
       " (2,\n",
       "  '0.002*\"law\" + 0.002*\"public\" + 0.002*\"buy\" + 0.002*\"education\" + 0.002*\"money\" + 0.001*\"wall\" + 0.001*\"build\" + 0.001*\"policy\" + 0.001*\"courage\" + 0.001*\"trillion\"'),\n",
       " (3,\n",
       "  '0.002*\"war\" + 0.002*\"vision\" + 0.002*\"democracy\" + 0.002*\"cost\" + 0.001*\"reality\" + 0.001*\"iraq\" + 0.001*\"million\" + 0.001*\"far\" + 0.001*\"military\" + 0.001*\"lost\"'),\n",
       " (4,\n",
       "  '0.002*\"medicare\" + 0.002*\"woman\" + 0.002*\"health\" + 0.002*\"world\" + 0.002*\"rule\" + 0.001*\"parent\" + 0.001*\"system\" + 0.001*\"table\" + 0.001*\"insurance\" + 0.001*\"elected\"'),\n",
       " (5,\n",
       "  '0.002*\"trump\" + 0.002*\"immigrant\" + 0.002*\"climate\" + 0.001*\"stand\" + 0.001*\"nation\" + 0.001*\"choice\" + 0.001*\"threat\" + 0.001*\"income\" + 0.001*\"impeachment\" + 0.001*\"cover\"')]"
      ]
     },
     "execution_count": 107,
     "metadata": {},
     "output_type": "execute_result"
    }
   ],
   "source": [
    "lda.print_topics()"
   ]
  },
  {
   "cell_type": "code",
   "execution_count": null,
   "metadata": {},
   "outputs": [],
   "source": [
    "0: beat trump\n",
    "1: healthcare \n",
    "2: economy: job, tax, middle clas\n",
    "3: foreign policy\n",
    "4: public rights: justice system, woman right, climate change   \n",
    "5: social issues: immigration, weapon control, minority, violence"
   ]
  },
  {
   "cell_type": "markdown",
   "metadata": {},
   "source": [
    "## get the topic for each sentence"
   ]
  },
  {
   "cell_type": "code",
   "execution_count": 108,
   "metadata": {},
   "outputs": [],
   "source": [
    "df['topic'] = ''"
   ]
  },
  {
   "cell_type": "code",
   "execution_count": 109,
   "metadata": {},
   "outputs": [],
   "source": [
    "lda_corpus = lda[corpus]\n",
    "lda_docs = [doc for doc in lda_corpus]\n",
    "for index, doc in enumerate(lda_docs):\n",
    "    dict={}\n",
    "    for top in doc:\n",
    "        dict[top[0]]=top[1]\n",
    "    df.topic.iloc[index] = max(dict, key=dict.get)"
   ]
  },
  {
   "cell_type": "code",
   "execution_count": 110,
   "metadata": {},
   "outputs": [
    {
     "data": {
      "text/html": [
       "<div>\n",
       "<style scoped>\n",
       "    .dataframe tbody tr th:only-of-type {\n",
       "        vertical-align: middle;\n",
       "    }\n",
       "\n",
       "    .dataframe tbody tr th {\n",
       "        vertical-align: top;\n",
       "    }\n",
       "\n",
       "    .dataframe thead th {\n",
       "        text-align: right;\n",
       "    }\n",
       "</style>\n",
       "<table border=\"1\" class=\"dataframe\">\n",
       "  <thead>\n",
       "    <tr style=\"text-align: right;\">\n",
       "      <th></th>\n",
       "      <th>date</th>\n",
       "      <th>speaker</th>\n",
       "      <th>sentence</th>\n",
       "      <th>sentiment</th>\n",
       "      <th>senti_comp</th>\n",
       "      <th>topic</th>\n",
       "    </tr>\n",
       "  </thead>\n",
       "  <tbody>\n",
       "    <tr>\n",
       "      <th>0</th>\n",
       "      <td>2020-02-25</td>\n",
       "      <td>Bernie Sanders</td>\n",
       "      <td>well  you re right  the economy is doing real...</td>\n",
       "      <td>{'neg': 0.0, 'neu': 0.625, 'pos': 0.375, 'comp...</td>\n",
       "      <td>0.8399</td>\n",
       "      <td>0</td>\n",
       "    </tr>\n",
       "    <tr>\n",
       "      <th>1</th>\n",
       "      <td>2020-02-25</td>\n",
       "      <td>Bernie Sanders</td>\n",
       "      <td>in the last three years  last three years  bil...</td>\n",
       "      <td>{'neg': 0.0, 'neu': 0.756, 'pos': 0.244, 'comp...</td>\n",
       "      <td>0.6705</td>\n",
       "      <td>0</td>\n",
       "    </tr>\n",
       "    <tr>\n",
       "      <th>2</th>\n",
       "      <td>2020-02-25</td>\n",
       "      <td>Bernie Sanders</td>\n",
       "      <td>but you know what  for the ordinary american t...</td>\n",
       "      <td>{'neg': 0.252, 'neu': 0.748, 'pos': 0.0, 'comp...</td>\n",
       "      <td>-0.6178</td>\n",
       "      <td>0</td>\n",
       "    </tr>\n",
       "    <tr>\n",
       "      <th>3</th>\n",
       "      <td>2020-02-25</td>\n",
       "      <td>Bernie Sanders</td>\n",
       "      <td>last year  real wage increases for the average...</td>\n",
       "      <td>{'neg': 0.0, 'neu': 1.0, 'pos': 0.0, 'compound...</td>\n",
       "      <td>0.0000</td>\n",
       "      <td>5</td>\n",
       "    </tr>\n",
       "    <tr>\n",
       "      <th>4</th>\n",
       "      <td>2020-02-25</td>\n",
       "      <td>Bernie Sanders</td>\n",
       "      <td>half of our people are living paycheck to payc...</td>\n",
       "      <td>{'neg': 0.0, 'neu': 1.0, 'pos': 0.0, 'compound...</td>\n",
       "      <td>0.0000</td>\n",
       "      <td>2</td>\n",
       "    </tr>\n",
       "  </tbody>\n",
       "</table>\n",
       "</div>"
      ],
      "text/plain": [
       "         date         speaker  \\\n",
       "0  2020-02-25  Bernie Sanders   \n",
       "1  2020-02-25  Bernie Sanders   \n",
       "2  2020-02-25  Bernie Sanders   \n",
       "3  2020-02-25  Bernie Sanders   \n",
       "4  2020-02-25  Bernie Sanders   \n",
       "\n",
       "                                            sentence  \\\n",
       "0   well  you re right  the economy is doing real...   \n",
       "1  in the last three years  last three years  bil...   \n",
       "2  but you know what  for the ordinary american t...   \n",
       "3  last year  real wage increases for the average...   \n",
       "4  half of our people are living paycheck to payc...   \n",
       "\n",
       "                                           sentiment  senti_comp  topic  \n",
       "0  {'neg': 0.0, 'neu': 0.625, 'pos': 0.375, 'comp...      0.8399      0  \n",
       "1  {'neg': 0.0, 'neu': 0.756, 'pos': 0.244, 'comp...      0.6705      0  \n",
       "2  {'neg': 0.252, 'neu': 0.748, 'pos': 0.0, 'comp...     -0.6178      0  \n",
       "3  {'neg': 0.0, 'neu': 1.0, 'pos': 0.0, 'compound...      0.0000      5  \n",
       "4  {'neg': 0.0, 'neu': 1.0, 'pos': 0.0, 'compound...      0.0000      2  "
      ]
     },
     "execution_count": 110,
     "metadata": {},
     "output_type": "execute_result"
    }
   ],
   "source": [
    "df.head()"
   ]
  },
  {
   "cell_type": "code",
   "execution_count": 111,
   "metadata": {},
   "outputs": [],
   "source": [
    "with open('df_senti_topic', 'wb') as to_write:\n",
    "    pickle.dump(df, to_write)"
   ]
  },
  {
   "cell_type": "markdown",
   "metadata": {},
   "source": [
    "## wordcloud for each topic"
   ]
  },
  {
   "cell_type": "code",
   "execution_count": 112,
   "metadata": {},
   "outputs": [
    {
     "data": {
      "image/png": "[encoded data removed]",
      "text/plain": [
       "<Figure size 432x288 with 1 Axes>"
      ]
     },
     "metadata": {
      "needs_background": "light"
     },
     "output_type": "display_data"
    }
   ],
   "source": [
    "df_topic = df[df.topic == 5]\n",
    "text_topic = \" \".join(sentence for sentence in df_topic.sentence)\n",
    "\n",
    "wordcloud = WordCloud(max_words=50, stopwords=my_stopwords, colormap=\"Wistia\", random_state = 66).generate(text_topic)\n",
    "\n",
    "plt.figure()\n",
    "plt.imshow(wordcloud, interpolation=\"bilinear\")\n",
    "plt.axis(\"off\")\n",
    "plt.savefig(\"topic5_healthcare.png\", format=\"png\")\n",
    "plt.show()"
   ]
  },
  {
   "cell_type": "markdown",
   "metadata": {},
   "source": [
    "# Unite or divide?"
   ]
  },
  {
   "cell_type": "code",
   "execution_count": 113,
   "metadata": {},
   "outputs": [
    {
     "data": {
      "text/plain": [
       "topic\n",
       "0    0.067719\n",
       "1    0.068880\n",
       "2    0.086809\n",
       "3    0.044236\n",
       "4    0.068401\n",
       "5    0.092419\n",
       "Name: senti_comp, dtype: float64"
      ]
     },
     "execution_count": 113,
     "metadata": {},
     "output_type": "execute_result"
    }
   ],
   "source": [
    "df.groupby('topic').senti_comp.mean()"
   ]
  },
  {
   "cell_type": "code",
   "execution_count": 114,
   "metadata": {},
   "outputs": [
    {
     "data": {
      "text/html": [
       "<div>\n",
       "<style scoped>\n",
       "    .dataframe tbody tr th:only-of-type {\n",
       "        vertical-align: middle;\n",
       "    }\n",
       "\n",
       "    .dataframe tbody tr th {\n",
       "        vertical-align: top;\n",
       "    }\n",
       "\n",
       "    .dataframe thead th {\n",
       "        text-align: right;\n",
       "    }\n",
       "</style>\n",
       "<table border=\"1\" class=\"dataframe\">\n",
       "  <thead>\n",
       "    <tr style=\"text-align: right;\">\n",
       "      <th></th>\n",
       "      <th>Bernie Sanders</th>\n",
       "      <th>Michael Bloomberg</th>\n",
       "      <th>Pete Buttigieg</th>\n",
       "      <th>Elizabeth Warren</th>\n",
       "      <th>Tom Steyer</th>\n",
       "      <th>Joe Biden</th>\n",
       "      <th>Amy Klobuchar</th>\n",
       "      <th>Andrew Yang</th>\n",
       "      <th>Kamala Harris</th>\n",
       "      <th>Cory Booker</th>\n",
       "      <th>Tulsi Gabbard</th>\n",
       "      <th>Julian Castro</th>\n",
       "      <th>Beto O’Rourke</th>\n",
       "    </tr>\n",
       "    <tr>\n",
       "      <th>topic</th>\n",
       "      <th></th>\n",
       "      <th></th>\n",
       "      <th></th>\n",
       "      <th></th>\n",
       "      <th></th>\n",
       "      <th></th>\n",
       "      <th></th>\n",
       "      <th></th>\n",
       "      <th></th>\n",
       "      <th></th>\n",
       "      <th></th>\n",
       "      <th></th>\n",
       "      <th></th>\n",
       "    </tr>\n",
       "  </thead>\n",
       "  <tbody>\n",
       "    <tr>\n",
       "      <th>0</th>\n",
       "      <td>0.061034</td>\n",
       "      <td>-0.016750</td>\n",
       "      <td>0.058640</td>\n",
       "      <td>0.072933</td>\n",
       "      <td>-0.034073</td>\n",
       "      <td>0.065931</td>\n",
       "      <td>0.136827</td>\n",
       "      <td>0.055877</td>\n",
       "      <td>0.160546</td>\n",
       "      <td>0.081255</td>\n",
       "      <td>-0.049751</td>\n",
       "      <td>0.125069</td>\n",
       "      <td>-0.027555</td>\n",
       "    </tr>\n",
       "    <tr>\n",
       "      <th>1</th>\n",
       "      <td>0.079109</td>\n",
       "      <td>0.014705</td>\n",
       "      <td>0.115580</td>\n",
       "      <td>0.052805</td>\n",
       "      <td>0.054461</td>\n",
       "      <td>0.005402</td>\n",
       "      <td>0.093661</td>\n",
       "      <td>0.139554</td>\n",
       "      <td>0.024130</td>\n",
       "      <td>0.059675</td>\n",
       "      <td>0.068096</td>\n",
       "      <td>0.318376</td>\n",
       "      <td>0.084673</td>\n",
       "    </tr>\n",
       "    <tr>\n",
       "      <th>2</th>\n",
       "      <td>-0.014790</td>\n",
       "      <td>0.064545</td>\n",
       "      <td>0.103883</td>\n",
       "      <td>0.142902</td>\n",
       "      <td>0.055865</td>\n",
       "      <td>0.074620</td>\n",
       "      <td>0.143523</td>\n",
       "      <td>0.024306</td>\n",
       "      <td>0.191362</td>\n",
       "      <td>0.059051</td>\n",
       "      <td>-0.018570</td>\n",
       "      <td>0.097418</td>\n",
       "      <td>0.115826</td>\n",
       "    </tr>\n",
       "    <tr>\n",
       "      <th>3</th>\n",
       "      <td>-0.018819</td>\n",
       "      <td>-0.059632</td>\n",
       "      <td>0.012740</td>\n",
       "      <td>0.002563</td>\n",
       "      <td>0.069611</td>\n",
       "      <td>0.040352</td>\n",
       "      <td>0.144129</td>\n",
       "      <td>0.053901</td>\n",
       "      <td>0.117088</td>\n",
       "      <td>0.061840</td>\n",
       "      <td>-0.043228</td>\n",
       "      <td>0.259395</td>\n",
       "      <td>-0.011837</td>\n",
       "    </tr>\n",
       "    <tr>\n",
       "      <th>4</th>\n",
       "      <td>0.066449</td>\n",
       "      <td>0.015889</td>\n",
       "      <td>0.153589</td>\n",
       "      <td>0.030288</td>\n",
       "      <td>0.081953</td>\n",
       "      <td>0.048249</td>\n",
       "      <td>0.094927</td>\n",
       "      <td>0.137808</td>\n",
       "      <td>0.076746</td>\n",
       "      <td>-0.049063</td>\n",
       "      <td>-0.070524</td>\n",
       "      <td>0.151711</td>\n",
       "      <td>0.011931</td>\n",
       "    </tr>\n",
       "    <tr>\n",
       "      <th>5</th>\n",
       "      <td>0.081499</td>\n",
       "      <td>0.018396</td>\n",
       "      <td>0.053116</td>\n",
       "      <td>0.105907</td>\n",
       "      <td>0.063759</td>\n",
       "      <td>0.059639</td>\n",
       "      <td>0.155439</td>\n",
       "      <td>0.158386</td>\n",
       "      <td>0.145113</td>\n",
       "      <td>-0.013642</td>\n",
       "      <td>0.202548</td>\n",
       "      <td>0.089627</td>\n",
       "      <td>0.170302</td>\n",
       "    </tr>\n",
       "  </tbody>\n",
       "</table>\n",
       "</div>"
      ],
      "text/plain": [
       "       Bernie Sanders  Michael Bloomberg  Pete Buttigieg  Elizabeth Warren  \\\n",
       "topic                                                                        \n",
       "0            0.061034          -0.016750        0.058640          0.072933   \n",
       "1            0.079109           0.014705        0.115580          0.052805   \n",
       "2           -0.014790           0.064545        0.103883          0.142902   \n",
       "3           -0.018819          -0.059632        0.012740          0.002563   \n",
       "4            0.066449           0.015889        0.153589          0.030288   \n",
       "5            0.081499           0.018396        0.053116          0.105907   \n",
       "\n",
       "       Tom Steyer  Joe Biden  Amy Klobuchar  Andrew Yang  Kamala Harris  \\\n",
       "topic                                                                     \n",
       "0       -0.034073   0.065931       0.136827     0.055877       0.160546   \n",
       "1        0.054461   0.005402       0.093661     0.139554       0.024130   \n",
       "2        0.055865   0.074620       0.143523     0.024306       0.191362   \n",
       "3        0.069611   0.040352       0.144129     0.053901       0.117088   \n",
       "4        0.081953   0.048249       0.094927     0.137808       0.076746   \n",
       "5        0.063759   0.059639       0.155439     0.158386       0.145113   \n",
       "\n",
       "       Cory Booker  Tulsi Gabbard  Julian Castro  Beto O’Rourke  \n",
       "topic                                                            \n",
       "0         0.081255      -0.049751       0.125069      -0.027555  \n",
       "1         0.059675       0.068096       0.318376       0.084673  \n",
       "2         0.059051      -0.018570       0.097418       0.115826  \n",
       "3         0.061840      -0.043228       0.259395      -0.011837  \n",
       "4        -0.049063      -0.070524       0.151711       0.011931  \n",
       "5        -0.013642       0.202548       0.089627       0.170302  "
      ]
     },
     "execution_count": 114,
     "metadata": {},
     "output_type": "execute_result"
    }
   ],
   "source": [
    "sentiments = pd.DataFrame()\n",
    "for name in df.speaker.unique(): \n",
    "    sentiments[name] = df[df.speaker==name].groupby('topic').senti_comp.mean()\n",
    "sentiments"
   ]
  },
  {
   "cell_type": "code",
   "execution_count": 116,
   "metadata": {},
   "outputs": [
    {
     "data": {
      "image/png": "[encoded data removed]",
      "text/plain": [
       "<Figure size 432x288 with 1 Axes>"
      ]
     },
     "metadata": {
      "needs_background": "light"
     },
     "output_type": "display_data"
    }
   ],
   "source": [
    "barplot = sentiments.std(axis = 1).sort_values().plot.bar(color=['cornflowerblue', 'royalblue', \n",
    "                                                                 'mediumslateblue', 'plum','hotpink', 'crimson'])\n",
    "plt.ylabel('Sentiment Standard Deviation', fontsize = 15, weight = 'bold', color ='navy')\n",
    "plt.xlabel('Topics', fontsize = 15, weight = 'bold', color = 'navy')\n",
    "plt.xticks([0,1,2,3,4,5],['Beat trump', 'Healthcare','Economy','Foreign policy', 'Public rights', 'Social issues'], \n",
    "           color = 'maroon')\n",
    "plt.yticks(color = 'maroon')\n",
    "plt.savefig(\"unitedivide.png\", format=\"png\",bbox_inches='tight')\n",
    "plt.show()"
   ]
  },
  {
   "cell_type": "code",
   "execution_count": null,
   "metadata": {},
   "outputs": [],
   "source": [
    "0: beat trump\n",
    "1: healthcare \n",
    "2: economy: job, tax, middle clas\n",
    "3: foreign policy\n",
    "4: public rights: justice system, woman right, climate change   \n",
    "5: social issues: immigration, weapon control, minority, violence"
   ]
  },
  {
   "cell_type": "code",
   "execution_count": null,
   "metadata": {},
   "outputs": [],
   "source": []
  }
 ],
 "metadata": {
  "kernelspec": {
   "display_name": "Python 3",
   "language": "python",
   "name": "python3"
  },
  "language_info": {
   "codemirror_mode": {
    "name": "ipython",
    "version": 3
   },
   "file_extension": ".py",
   "mimetype": "text/x-python",
   "name": "python",
   "nbconvert_exporter": "python",
   "pygments_lexer": "ipython3",
   "version": "3.7.6"
  }
 },
 "nbformat": 4,
 "nbformat_minor": 2
}
